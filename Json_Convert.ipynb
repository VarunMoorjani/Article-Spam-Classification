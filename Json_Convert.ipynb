{
 "cells": [
  {
   "cell_type": "code",
   "execution_count": 25,
   "metadata": {},
   "outputs": [],
   "source": [
    "import pandas as pd\n",
    "import numpy as np\n",
    "import json"
   ]
  },
  {
   "cell_type": "markdown",
   "metadata": {},
   "source": [
    "# Data Cleaning"
   ]
  },
  {
   "cell_type": "code",
   "execution_count": 210,
   "metadata": {},
   "outputs": [
    {
     "data": {
      "text/html": [
       "<div>\n",
       "<style scoped>\n",
       "    .dataframe tbody tr th:only-of-type {\n",
       "        vertical-align: middle;\n",
       "    }\n",
       "\n",
       "    .dataframe tbody tr th {\n",
       "        vertical-align: top;\n",
       "    }\n",
       "\n",
       "    .dataframe thead th {\n",
       "        text-align: right;\n",
       "    }\n",
       "</style>\n",
       "<table border=\"1\" class=\"dataframe\">\n",
       "  <thead>\n",
       "    <tr style=\"text-align: right;\">\n",
       "      <th></th>\n",
       "      <th>newspapers</th>\n",
       "    </tr>\n",
       "  </thead>\n",
       "  <tbody>\n",
       "    <tr>\n",
       "      <th>cnbc_investing</th>\n",
       "      <td>{'rss': 'https://www.cnbc.com/id/15839069/devi...</td>\n",
       "    </tr>\n",
       "    <tr>\n",
       "      <th>cnbc_top_news</th>\n",
       "      <td>{'rss': 'https://www.cnbc.com/id/100003114/dev...</td>\n",
       "    </tr>\n",
       "    <tr>\n",
       "      <th>cnnmoney</th>\n",
       "      <td>{'rss': 'http://rss.cnn.com/rss/money_latest.r...</td>\n",
       "    </tr>\n",
       "    <tr>\n",
       "      <th>economist_business</th>\n",
       "      <td>{'rss': 'https://www.economist.com/sections/bu...</td>\n",
       "    </tr>\n",
       "    <tr>\n",
       "      <th>economist_science_and_tech</th>\n",
       "      <td>{'rss': 'https://www.economist.com/sections/sc...</td>\n",
       "    </tr>\n",
       "  </tbody>\n",
       "</table>\n",
       "</div>"
      ],
      "text/plain": [
       "                                                                   newspapers\n",
       "cnbc_investing              {'rss': 'https://www.cnbc.com/id/15839069/devi...\n",
       "cnbc_top_news               {'rss': 'https://www.cnbc.com/id/100003114/dev...\n",
       "cnnmoney                    {'rss': 'http://rss.cnn.com/rss/money_latest.r...\n",
       "economist_business          {'rss': 'https://www.economist.com/sections/bu...\n",
       "economist_science_and_tech  {'rss': 'https://www.economist.com/sections/sc..."
      ]
     },
     "execution_count": 210,
     "metadata": {},
     "output_type": "execute_result"
    }
   ],
   "source": [
    "df_json = pd.read_json(\"/Users/ambardubey/Desktop/Capgemini/Spam/scraped_articles.json\")\n",
    "df_json.head()"
   ]
  },
  {
   "cell_type": "code",
   "execution_count": 211,
   "metadata": {},
   "outputs": [],
   "source": [
    "df_json = df_json.reset_index()"
   ]
  },
  {
   "cell_type": "code",
   "execution_count": 212,
   "metadata": {},
   "outputs": [],
   "source": [
    "from pandas.io.json import json_normalize"
   ]
  },
  {
   "cell_type": "code",
   "execution_count": 213,
   "metadata": {},
   "outputs": [
    {
     "data": {
      "text/plain": [
       "Index(['index', 'newspapers'], dtype='object')"
      ]
     },
     "execution_count": 213,
     "metadata": {},
     "output_type": "execute_result"
    }
   ],
   "source": [
    "df_json.columns"
   ]
  },
  {
   "cell_type": "code",
   "execution_count": 214,
   "metadata": {},
   "outputs": [
    {
     "data": {
      "text/plain": [
       "(31, 2)"
      ]
     },
     "execution_count": 214,
     "metadata": {},
     "output_type": "execute_result"
    }
   ],
   "source": [
    "df_json.shape"
   ]
  },
  {
   "cell_type": "code",
   "execution_count": 220,
   "metadata": {},
   "outputs": [
    {
     "data": {
      "text/html": [
       "<div>\n",
       "<style scoped>\n",
       "    .dataframe tbody tr th:only-of-type {\n",
       "        vertical-align: middle;\n",
       "    }\n",
       "\n",
       "    .dataframe tbody tr th {\n",
       "        vertical-align: top;\n",
       "    }\n",
       "\n",
       "    .dataframe thead th {\n",
       "        text-align: right;\n",
       "    }\n",
       "</style>\n",
       "<table border=\"1\" class=\"dataframe\">\n",
       "  <thead>\n",
       "    <tr style=\"text-align: right;\">\n",
       "      <th></th>\n",
       "      <th>index</th>\n",
       "      <th>newspapers</th>\n",
       "    </tr>\n",
       "  </thead>\n",
       "  <tbody>\n",
       "    <tr>\n",
       "      <th>0</th>\n",
       "      <td>cnbc_investing</td>\n",
       "      <td>{'rss': 'https://www.cnbc.com/id/15839069/devi...</td>\n",
       "    </tr>\n",
       "    <tr>\n",
       "      <th>1</th>\n",
       "      <td>cnbc_top_news</td>\n",
       "      <td>{'rss': 'https://www.cnbc.com/id/100003114/dev...</td>\n",
       "    </tr>\n",
       "    <tr>\n",
       "      <th>2</th>\n",
       "      <td>cnnmoney</td>\n",
       "      <td>{'rss': 'http://rss.cnn.com/rss/money_latest.r...</td>\n",
       "    </tr>\n",
       "    <tr>\n",
       "      <th>3</th>\n",
       "      <td>economist_business</td>\n",
       "      <td>{'rss': 'https://www.economist.com/sections/bu...</td>\n",
       "    </tr>\n",
       "    <tr>\n",
       "      <th>4</th>\n",
       "      <td>economist_science_and_tech</td>\n",
       "      <td>{'rss': 'https://www.economist.com/sections/sc...</td>\n",
       "    </tr>\n",
       "  </tbody>\n",
       "</table>\n",
       "</div>"
      ],
      "text/plain": [
       "                        index  \\\n",
       "0              cnbc_investing   \n",
       "1               cnbc_top_news   \n",
       "2                    cnnmoney   \n",
       "3          economist_business   \n",
       "4  economist_science_and_tech   \n",
       "\n",
       "                                          newspapers  \n",
       "0  {'rss': 'https://www.cnbc.com/id/15839069/devi...  \n",
       "1  {'rss': 'https://www.cnbc.com/id/100003114/dev...  \n",
       "2  {'rss': 'http://rss.cnn.com/rss/money_latest.r...  \n",
       "3  {'rss': 'https://www.economist.com/sections/bu...  \n",
       "4  {'rss': 'https://www.economist.com/sections/sc...  "
      ]
     },
     "execution_count": 220,
     "metadata": {},
     "output_type": "execute_result"
    }
   ],
   "source": [
    "df_json.head()"
   ]
  },
  {
   "cell_type": "code",
   "execution_count": 221,
   "metadata": {},
   "outputs": [],
   "source": [
    "news_data = json_normalize(df_json[\"newspapers\"], meta=[\"index\"], errors='ignore')"
   ]
  },
  {
   "cell_type": "code",
   "execution_count": 222,
   "metadata": {},
   "outputs": [
    {
     "data": {
      "text/html": [
       "<div>\n",
       "<style scoped>\n",
       "    .dataframe tbody tr th:only-of-type {\n",
       "        vertical-align: middle;\n",
       "    }\n",
       "\n",
       "    .dataframe tbody tr th {\n",
       "        vertical-align: top;\n",
       "    }\n",
       "\n",
       "    .dataframe thead th {\n",
       "        text-align: right;\n",
       "    }\n",
       "</style>\n",
       "<table border=\"1\" class=\"dataframe\">\n",
       "  <thead>\n",
       "    <tr style=\"text-align: right;\">\n",
       "      <th></th>\n",
       "      <th>articles</th>\n",
       "      <th>link</th>\n",
       "      <th>rss</th>\n",
       "    </tr>\n",
       "  </thead>\n",
       "  <tbody>\n",
       "    <tr>\n",
       "      <th>0</th>\n",
       "      <td>[{'link': 'https://www.cnbc.com/2018/03/23/cra...</td>\n",
       "      <td>https://www.cnbc.com/investing/</td>\n",
       "      <td>https://www.cnbc.com/id/15839069/device/rss/rs...</td>\n",
       "    </tr>\n",
       "    <tr>\n",
       "      <th>1</th>\n",
       "      <td>[{'link': 'https://www.cnbc.com/2018/03/25/bit...</td>\n",
       "      <td>https://www.cnbc.com/</td>\n",
       "      <td>https://www.cnbc.com/id/100003114/device/rss/r...</td>\n",
       "    </tr>\n",
       "    <tr>\n",
       "      <th>2</th>\n",
       "      <td>[{'link': 'http://rss.cnn.com/~r/rss/money_lat...</td>\n",
       "      <td>http://money.cnn.com/</td>\n",
       "      <td>http://rss.cnn.com/rss/money_latest.rss/</td>\n",
       "    </tr>\n",
       "    <tr>\n",
       "      <th>3</th>\n",
       "      <td>[{'link': 'https://www.economist.com/news/busi...</td>\n",
       "      <td>https://www.economist.com/topics/business</td>\n",
       "      <td>https://www.economist.com/sections/business-fi...</td>\n",
       "    </tr>\n",
       "    <tr>\n",
       "      <th>4</th>\n",
       "      <td>[{'link': 'https://www.economist.com/news/scie...</td>\n",
       "      <td>https://www.economist.com/topics/science</td>\n",
       "      <td>https://www.economist.com/sections/science-tec...</td>\n",
       "    </tr>\n",
       "  </tbody>\n",
       "</table>\n",
       "</div>"
      ],
      "text/plain": [
       "                                            articles  \\\n",
       "0  [{'link': 'https://www.cnbc.com/2018/03/23/cra...   \n",
       "1  [{'link': 'https://www.cnbc.com/2018/03/25/bit...   \n",
       "2  [{'link': 'http://rss.cnn.com/~r/rss/money_lat...   \n",
       "3  [{'link': 'https://www.economist.com/news/busi...   \n",
       "4  [{'link': 'https://www.economist.com/news/scie...   \n",
       "\n",
       "                                        link  \\\n",
       "0            https://www.cnbc.com/investing/   \n",
       "1                      https://www.cnbc.com/   \n",
       "2                      http://money.cnn.com/   \n",
       "3  https://www.economist.com/topics/business   \n",
       "4   https://www.economist.com/topics/science   \n",
       "\n",
       "                                                 rss  \n",
       "0  https://www.cnbc.com/id/15839069/device/rss/rs...  \n",
       "1  https://www.cnbc.com/id/100003114/device/rss/r...  \n",
       "2           http://rss.cnn.com/rss/money_latest.rss/  \n",
       "3  https://www.economist.com/sections/business-fi...  \n",
       "4  https://www.economist.com/sections/science-tec...  "
      ]
     },
     "execution_count": 222,
     "metadata": {},
     "output_type": "execute_result"
    }
   ],
   "source": [
    "news_data.head()"
   ]
  },
  {
   "cell_type": "code",
   "execution_count": 223,
   "metadata": {},
   "outputs": [
    {
     "data": {
      "text/html": [
       "<div>\n",
       "<style scoped>\n",
       "    .dataframe tbody tr th:only-of-type {\n",
       "        vertical-align: middle;\n",
       "    }\n",
       "\n",
       "    .dataframe tbody tr th {\n",
       "        vertical-align: top;\n",
       "    }\n",
       "\n",
       "    .dataframe thead th {\n",
       "        text-align: right;\n",
       "    }\n",
       "</style>\n",
       "<table border=\"1\" class=\"dataframe\">\n",
       "  <thead>\n",
       "    <tr style=\"text-align: right;\">\n",
       "      <th></th>\n",
       "      <th>author</th>\n",
       "      <th>link</th>\n",
       "      <th>published</th>\n",
       "      <th>text</th>\n",
       "      <th>title</th>\n",
       "    </tr>\n",
       "  </thead>\n",
       "  <tbody>\n",
       "    <tr>\n",
       "      <th>0</th>\n",
       "      <td>[Elizabeth Gurdus, Andrew Harrer, Bloomberg, G...</td>\n",
       "      <td>https://www.cnbc.com/2018/03/23/cramer-remix-t...</td>\n",
       "      <td>2018-03-24T00:00:00</td>\n",
       "      <td>CNBC's Jim Cramer welcomed Dropbox's successfu...</td>\n",
       "      <td>Cramer Remix: The one bright spot after a toug...</td>\n",
       "    </tr>\n",
       "    <tr>\n",
       "      <th>1</th>\n",
       "      <td>[Elizabeth Gurdus]</td>\n",
       "      <td>https://www.cnbc.com/2018/03/23/cramer-blesses...</td>\n",
       "      <td>2018-03-23T23:36:00</td>\n",
       "      <td>CNBC's Jim Cramer welcomed Dropbox's successfu...</td>\n",
       "      <td>Cramer: Dropbox deserves to trade like a cloud...</td>\n",
       "    </tr>\n",
       "    <tr>\n",
       "      <th>2</th>\n",
       "      <td>[Elizabeth Gurdus]</td>\n",
       "      <td>https://www.cnbc.com/2018/03/23/cramer-tommy-h...</td>\n",
       "      <td>2018-03-23T23:25:00</td>\n",
       "      <td>After a week of panic and selling for the stoc...</td>\n",
       "      <td>Cramer: Tommy Hilfiger parent PVH is a buy ahe...</td>\n",
       "    </tr>\n",
       "    <tr>\n",
       "      <th>3</th>\n",
       "      <td>[Elizabeth Gurdus]</td>\n",
       "      <td>https://www.cnbc.com/2018/03/23/cramers-game-p...</td>\n",
       "      <td>2018-03-23T23:12:00</td>\n",
       "      <td>Paychex: This old Cramer-fave will report earn...</td>\n",
       "      <td>Cramer's game plan: Be prepared for more White...</td>\n",
       "    </tr>\n",
       "    <tr>\n",
       "      <th>4</th>\n",
       "      <td>[Heidi Chung, Getty Images, Source, Lucas Jack...</td>\n",
       "      <td>https://www.cnbc.com/2018/03/23/5-dow-stocks-a...</td>\n",
       "      <td>2018-03-23T16:19:00</td>\n",
       "      <td>The major indexes tried to recover Friday afte...</td>\n",
       "      <td>Five Dow stocks are in bear market territory. ...</td>\n",
       "    </tr>\n",
       "  </tbody>\n",
       "</table>\n",
       "</div>"
      ],
      "text/plain": [
       "                                              author  \\\n",
       "0  [Elizabeth Gurdus, Andrew Harrer, Bloomberg, G...   \n",
       "1                                 [Elizabeth Gurdus]   \n",
       "2                                 [Elizabeth Gurdus]   \n",
       "3                                 [Elizabeth Gurdus]   \n",
       "4  [Heidi Chung, Getty Images, Source, Lucas Jack...   \n",
       "\n",
       "                                                link            published  \\\n",
       "0  https://www.cnbc.com/2018/03/23/cramer-remix-t...  2018-03-24T00:00:00   \n",
       "1  https://www.cnbc.com/2018/03/23/cramer-blesses...  2018-03-23T23:36:00   \n",
       "2  https://www.cnbc.com/2018/03/23/cramer-tommy-h...  2018-03-23T23:25:00   \n",
       "3  https://www.cnbc.com/2018/03/23/cramers-game-p...  2018-03-23T23:12:00   \n",
       "4  https://www.cnbc.com/2018/03/23/5-dow-stocks-a...  2018-03-23T16:19:00   \n",
       "\n",
       "                                                text  \\\n",
       "0  CNBC's Jim Cramer welcomed Dropbox's successfu...   \n",
       "1  CNBC's Jim Cramer welcomed Dropbox's successfu...   \n",
       "2  After a week of panic and selling for the stoc...   \n",
       "3  Paychex: This old Cramer-fave will report earn...   \n",
       "4  The major indexes tried to recover Friday afte...   \n",
       "\n",
       "                                               title  \n",
       "0  Cramer Remix: The one bright spot after a toug...  \n",
       "1  Cramer: Dropbox deserves to trade like a cloud...  \n",
       "2  Cramer: Tommy Hilfiger parent PVH is a buy ahe...  \n",
       "3  Cramer's game plan: Be prepared for more White...  \n",
       "4  Five Dow stocks are in bear market territory. ...  "
      ]
     },
     "execution_count": 223,
     "metadata": {},
     "output_type": "execute_result"
    }
   ],
   "source": [
    "article_data = json_normalize(df_json[\"newspapers\"], record_path=\"articles\", errors='ignore')\n",
    "article_data.head()"
   ]
  },
  {
   "cell_type": "code",
   "execution_count": 224,
   "metadata": {},
   "outputs": [
    {
     "data": {
      "text/plain": [
       "(631, 5)"
      ]
     },
     "execution_count": 224,
     "metadata": {},
     "output_type": "execute_result"
    }
   ],
   "source": [
    "article_data.shape"
   ]
  },
  {
   "cell_type": "code",
   "execution_count": 225,
   "metadata": {},
   "outputs": [],
   "source": [
    "df = article_data"
   ]
  },
  {
   "cell_type": "code",
   "execution_count": 226,
   "metadata": {},
   "outputs": [
    {
     "data": {
      "text/html": [
       "<div>\n",
       "<style scoped>\n",
       "    .dataframe tbody tr th:only-of-type {\n",
       "        vertical-align: middle;\n",
       "    }\n",
       "\n",
       "    .dataframe tbody tr th {\n",
       "        vertical-align: top;\n",
       "    }\n",
       "\n",
       "    .dataframe thead th {\n",
       "        text-align: right;\n",
       "    }\n",
       "</style>\n",
       "<table border=\"1\" class=\"dataframe\">\n",
       "  <thead>\n",
       "    <tr style=\"text-align: right;\">\n",
       "      <th></th>\n",
       "      <th>author</th>\n",
       "      <th>link</th>\n",
       "      <th>published</th>\n",
       "      <th>text</th>\n",
       "      <th>title</th>\n",
       "    </tr>\n",
       "  </thead>\n",
       "  <tbody>\n",
       "    <tr>\n",
       "      <th>0</th>\n",
       "      <td>[Elizabeth Gurdus, Andrew Harrer, Bloomberg, G...</td>\n",
       "      <td>https://www.cnbc.com/2018/03/23/cramer-remix-t...</td>\n",
       "      <td>2018-03-24T00:00:00</td>\n",
       "      <td>CNBC's Jim Cramer welcomed Dropbox's successfu...</td>\n",
       "      <td>Cramer Remix: The one bright spot after a toug...</td>\n",
       "    </tr>\n",
       "    <tr>\n",
       "      <th>1</th>\n",
       "      <td>[Elizabeth Gurdus]</td>\n",
       "      <td>https://www.cnbc.com/2018/03/23/cramer-blesses...</td>\n",
       "      <td>2018-03-23T23:36:00</td>\n",
       "      <td>CNBC's Jim Cramer welcomed Dropbox's successfu...</td>\n",
       "      <td>Cramer: Dropbox deserves to trade like a cloud...</td>\n",
       "    </tr>\n",
       "    <tr>\n",
       "      <th>2</th>\n",
       "      <td>[Elizabeth Gurdus]</td>\n",
       "      <td>https://www.cnbc.com/2018/03/23/cramer-tommy-h...</td>\n",
       "      <td>2018-03-23T23:25:00</td>\n",
       "      <td>After a week of panic and selling for the stoc...</td>\n",
       "      <td>Cramer: Tommy Hilfiger parent PVH is a buy ahe...</td>\n",
       "    </tr>\n",
       "    <tr>\n",
       "      <th>3</th>\n",
       "      <td>[Elizabeth Gurdus]</td>\n",
       "      <td>https://www.cnbc.com/2018/03/23/cramers-game-p...</td>\n",
       "      <td>2018-03-23T23:12:00</td>\n",
       "      <td>Paychex: This old Cramer-fave will report earn...</td>\n",
       "      <td>Cramer's game plan: Be prepared for more White...</td>\n",
       "    </tr>\n",
       "    <tr>\n",
       "      <th>4</th>\n",
       "      <td>[Heidi Chung, Getty Images, Source, Lucas Jack...</td>\n",
       "      <td>https://www.cnbc.com/2018/03/23/5-dow-stocks-a...</td>\n",
       "      <td>2018-03-23T16:19:00</td>\n",
       "      <td>The major indexes tried to recover Friday afte...</td>\n",
       "      <td>Five Dow stocks are in bear market territory. ...</td>\n",
       "    </tr>\n",
       "  </tbody>\n",
       "</table>\n",
       "</div>"
      ],
      "text/plain": [
       "                                              author  \\\n",
       "0  [Elizabeth Gurdus, Andrew Harrer, Bloomberg, G...   \n",
       "1                                 [Elizabeth Gurdus]   \n",
       "2                                 [Elizabeth Gurdus]   \n",
       "3                                 [Elizabeth Gurdus]   \n",
       "4  [Heidi Chung, Getty Images, Source, Lucas Jack...   \n",
       "\n",
       "                                                link            published  \\\n",
       "0  https://www.cnbc.com/2018/03/23/cramer-remix-t...  2018-03-24T00:00:00   \n",
       "1  https://www.cnbc.com/2018/03/23/cramer-blesses...  2018-03-23T23:36:00   \n",
       "2  https://www.cnbc.com/2018/03/23/cramer-tommy-h...  2018-03-23T23:25:00   \n",
       "3  https://www.cnbc.com/2018/03/23/cramers-game-p...  2018-03-23T23:12:00   \n",
       "4  https://www.cnbc.com/2018/03/23/5-dow-stocks-a...  2018-03-23T16:19:00   \n",
       "\n",
       "                                                text  \\\n",
       "0  CNBC's Jim Cramer welcomed Dropbox's successfu...   \n",
       "1  CNBC's Jim Cramer welcomed Dropbox's successfu...   \n",
       "2  After a week of panic and selling for the stoc...   \n",
       "3  Paychex: This old Cramer-fave will report earn...   \n",
       "4  The major indexes tried to recover Friday afte...   \n",
       "\n",
       "                                               title  \n",
       "0  Cramer Remix: The one bright spot after a toug...  \n",
       "1  Cramer: Dropbox deserves to trade like a cloud...  \n",
       "2  Cramer: Tommy Hilfiger parent PVH is a buy ahe...  \n",
       "3  Cramer's game plan: Be prepared for more White...  \n",
       "4  Five Dow stocks are in bear market territory. ...  "
      ]
     },
     "execution_count": 226,
     "metadata": {},
     "output_type": "execute_result"
    }
   ],
   "source": [
    "df.head()"
   ]
  },
  {
   "cell_type": "code",
   "execution_count": 58,
   "metadata": {},
   "outputs": [],
   "source": [
    "df.to_excel('/Users/ambardubey/Downloads/Json_Convert.xlsx')"
   ]
  },
  {
   "cell_type": "code",
   "execution_count": 227,
   "metadata": {},
   "outputs": [],
   "source": [
    "del df['author']"
   ]
  },
  {
   "cell_type": "code",
   "execution_count": 228,
   "metadata": {},
   "outputs": [],
   "source": [
    "del df['published']"
   ]
  },
  {
   "cell_type": "code",
   "execution_count": 229,
   "metadata": {},
   "outputs": [
    {
     "data": {
      "text/html": [
       "<div>\n",
       "<style scoped>\n",
       "    .dataframe tbody tr th:only-of-type {\n",
       "        vertical-align: middle;\n",
       "    }\n",
       "\n",
       "    .dataframe tbody tr th {\n",
       "        vertical-align: top;\n",
       "    }\n",
       "\n",
       "    .dataframe thead th {\n",
       "        text-align: right;\n",
       "    }\n",
       "</style>\n",
       "<table border=\"1\" class=\"dataframe\">\n",
       "  <thead>\n",
       "    <tr style=\"text-align: right;\">\n",
       "      <th></th>\n",
       "      <th>link</th>\n",
       "      <th>text</th>\n",
       "      <th>title</th>\n",
       "    </tr>\n",
       "  </thead>\n",
       "  <tbody>\n",
       "    <tr>\n",
       "      <th>0</th>\n",
       "      <td>https://www.cnbc.com/2018/03/23/cramer-remix-t...</td>\n",
       "      <td>CNBC's Jim Cramer welcomed Dropbox's successfu...</td>\n",
       "      <td>Cramer Remix: The one bright spot after a toug...</td>\n",
       "    </tr>\n",
       "    <tr>\n",
       "      <th>1</th>\n",
       "      <td>https://www.cnbc.com/2018/03/23/cramer-blesses...</td>\n",
       "      <td>CNBC's Jim Cramer welcomed Dropbox's successfu...</td>\n",
       "      <td>Cramer: Dropbox deserves to trade like a cloud...</td>\n",
       "    </tr>\n",
       "    <tr>\n",
       "      <th>2</th>\n",
       "      <td>https://www.cnbc.com/2018/03/23/cramer-tommy-h...</td>\n",
       "      <td>After a week of panic and selling for the stoc...</td>\n",
       "      <td>Cramer: Tommy Hilfiger parent PVH is a buy ahe...</td>\n",
       "    </tr>\n",
       "    <tr>\n",
       "      <th>3</th>\n",
       "      <td>https://www.cnbc.com/2018/03/23/cramers-game-p...</td>\n",
       "      <td>Paychex: This old Cramer-fave will report earn...</td>\n",
       "      <td>Cramer's game plan: Be prepared for more White...</td>\n",
       "    </tr>\n",
       "    <tr>\n",
       "      <th>4</th>\n",
       "      <td>https://www.cnbc.com/2018/03/23/5-dow-stocks-a...</td>\n",
       "      <td>The major indexes tried to recover Friday afte...</td>\n",
       "      <td>Five Dow stocks are in bear market territory. ...</td>\n",
       "    </tr>\n",
       "  </tbody>\n",
       "</table>\n",
       "</div>"
      ],
      "text/plain": [
       "                                                link  \\\n",
       "0  https://www.cnbc.com/2018/03/23/cramer-remix-t...   \n",
       "1  https://www.cnbc.com/2018/03/23/cramer-blesses...   \n",
       "2  https://www.cnbc.com/2018/03/23/cramer-tommy-h...   \n",
       "3  https://www.cnbc.com/2018/03/23/cramers-game-p...   \n",
       "4  https://www.cnbc.com/2018/03/23/5-dow-stocks-a...   \n",
       "\n",
       "                                                text  \\\n",
       "0  CNBC's Jim Cramer welcomed Dropbox's successfu...   \n",
       "1  CNBC's Jim Cramer welcomed Dropbox's successfu...   \n",
       "2  After a week of panic and selling for the stoc...   \n",
       "3  Paychex: This old Cramer-fave will report earn...   \n",
       "4  The major indexes tried to recover Friday afte...   \n",
       "\n",
       "                                               title  \n",
       "0  Cramer Remix: The one bright spot after a toug...  \n",
       "1  Cramer: Dropbox deserves to trade like a cloud...  \n",
       "2  Cramer: Tommy Hilfiger parent PVH is a buy ahe...  \n",
       "3  Cramer's game plan: Be prepared for more White...  \n",
       "4  Five Dow stocks are in bear market territory. ...  "
      ]
     },
     "execution_count": 229,
     "metadata": {},
     "output_type": "execute_result"
    }
   ],
   "source": [
    "df.head()"
   ]
  },
  {
   "cell_type": "code",
   "execution_count": 64,
   "metadata": {},
   "outputs": [],
   "source": [
    "df.to_excel('/Users/ambardubey/Downloads/Json_Convert1.xlsx')"
   ]
  },
  {
   "cell_type": "code",
   "execution_count": 230,
   "metadata": {},
   "outputs": [],
   "source": [
    "df = pd.read_excel('/Users/ambardubey/Desktop/Capgemini/Spam/Final/Json_Convert1.xlsx')"
   ]
  },
  {
   "cell_type": "code",
   "execution_count": 231,
   "metadata": {},
   "outputs": [
    {
     "data": {
      "text/html": [
       "<div>\n",
       "<style scoped>\n",
       "    .dataframe tbody tr th:only-of-type {\n",
       "        vertical-align: middle;\n",
       "    }\n",
       "\n",
       "    .dataframe tbody tr th {\n",
       "        vertical-align: top;\n",
       "    }\n",
       "\n",
       "    .dataframe thead th {\n",
       "        text-align: right;\n",
       "    }\n",
       "</style>\n",
       "<table border=\"1\" class=\"dataframe\">\n",
       "  <thead>\n",
       "    <tr style=\"text-align: right;\">\n",
       "      <th></th>\n",
       "      <th>text</th>\n",
       "      <th>title</th>\n",
       "      <th>Source</th>\n",
       "    </tr>\n",
       "  </thead>\n",
       "  <tbody>\n",
       "    <tr>\n",
       "      <th>0</th>\n",
       "      <td>CNBC's Jim Cramer welcomed Dropbox's successfu...</td>\n",
       "      <td>Cramer Remix: The one bright spot after a toug...</td>\n",
       "      <td>CNBC</td>\n",
       "    </tr>\n",
       "    <tr>\n",
       "      <th>1</th>\n",
       "      <td>CNBC's Jim Cramer welcomed Dropbox's successfu...</td>\n",
       "      <td>Cramer: Dropbox deserves to trade like a cloud...</td>\n",
       "      <td>CNBC</td>\n",
       "    </tr>\n",
       "    <tr>\n",
       "      <th>2</th>\n",
       "      <td>After a week of panic and selling for the stoc...</td>\n",
       "      <td>Cramer: Tommy Hilfiger parent PVH is a buy ahe...</td>\n",
       "      <td>CNBC</td>\n",
       "    </tr>\n",
       "    <tr>\n",
       "      <th>3</th>\n",
       "      <td>Paychex: This old Cramer-fave will report earn...</td>\n",
       "      <td>Cramer's game plan: Be prepared for more White...</td>\n",
       "      <td>CNBC</td>\n",
       "    </tr>\n",
       "    <tr>\n",
       "      <th>4</th>\n",
       "      <td>The major indexes tried to recover Friday afte...</td>\n",
       "      <td>Five Dow stocks are in bear market territory. ...</td>\n",
       "      <td>CNBC</td>\n",
       "    </tr>\n",
       "    <tr>\n",
       "      <th>5</th>\n",
       "      <td>Bank of America's Merrill Lynch routinely misl...</td>\n",
       "      <td>Bank of America in $42 million settlement over...</td>\n",
       "      <td>CNBC</td>\n",
       "    </tr>\n",
       "    <tr>\n",
       "      <th>6</th>\n",
       "      <td>One Wall Street firm is getting worried about ...</td>\n",
       "      <td>Citi downgrades red-hot chip stock Micron due ...</td>\n",
       "      <td>CNBC</td>\n",
       "    </tr>\n",
       "    <tr>\n",
       "      <th>7</th>\n",
       "      <td>The Chinese are 'so ready for us' on trade, sa...</td>\n",
       "      <td>Cramer on Trump's China tariffs: Beijing is so...</td>\n",
       "      <td>CNBC</td>\n",
       "    </tr>\n",
       "    <tr>\n",
       "      <th>8</th>\n",
       "      <td>Darrell Cronk , president of the Wells Fargo I...</td>\n",
       "      <td>PRO Talks: Wells Fargo's Darrell Cronk on why ...</td>\n",
       "      <td>CNBC</td>\n",
       "    </tr>\n",
       "    <tr>\n",
       "      <th>9</th>\n",
       "      <td>The market's recent sharp losses are healthy, ...</td>\n",
       "      <td>Market retest of February correction is actual...</td>\n",
       "      <td>CNBC</td>\n",
       "    </tr>\n",
       "    <tr>\n",
       "      <th>10</th>\n",
       "      <td>Japan's Financial Services Agency issued a war...</td>\n",
       "      <td>Japan warns big cryptocurrency exchange about ...</td>\n",
       "      <td>CNBC</td>\n",
       "    </tr>\n",
       "    <tr>\n",
       "      <th>11</th>\n",
       "      <td>A prolonged bull market has prompted some reti...</td>\n",
       "      <td>Stock market volatility could kill this risky ...</td>\n",
       "      <td>CNBC</td>\n",
       "    </tr>\n",
       "    <tr>\n",
       "      <th>12</th>\n",
       "      <td>Check out which companies are making headlines...</td>\n",
       "      <td>Stocks making the biggest moves premarket: NKE...</td>\n",
       "      <td>CNBC</td>\n",
       "    </tr>\n",
       "    <tr>\n",
       "      <th>13</th>\n",
       "      <td>Cisco's impressive rally this year is just the...</td>\n",
       "      <td>Goldman predicts 'significant' returns at Cisc...</td>\n",
       "      <td>CNBC</td>\n",
       "    </tr>\n",
       "    <tr>\n",
       "      <th>14</th>\n",
       "      <td>Investors have renewed confidence in Nike afte...</td>\n",
       "      <td>Dow stock Nike just had a blowout quarter and ...</td>\n",
       "      <td>CNBC</td>\n",
       "    </tr>\n",
       "    <tr>\n",
       "      <th>15</th>\n",
       "      <td>The Dow, S&amp;P 500 and Nasdaq are pacing for the...</td>\n",
       "      <td>Stocks are having their worst week in over a m...</td>\n",
       "      <td>CNBC</td>\n",
       "    </tr>\n",
       "    <tr>\n",
       "      <th>16</th>\n",
       "      <td>Stock markets around the world saw sharp falls...</td>\n",
       "      <td>Global markets slump as trade-war tensions esc...</td>\n",
       "      <td>CNBC</td>\n",
       "    </tr>\n",
       "    <tr>\n",
       "      <th>17</th>\n",
       "      <td>As the major averages dropped on Thursday, CNB...</td>\n",
       "      <td>Cramer: This decline isn't about the Fed. It's...</td>\n",
       "      <td>CNBC</td>\n",
       "    </tr>\n",
       "    <tr>\n",
       "      <th>18</th>\n",
       "      <td>Lighthizer: These are things that if China dom...</td>\n",
       "      <td>US could target 10 Chinese industries, includi...</td>\n",
       "      <td>CNBC</td>\n",
       "    </tr>\n",
       "    <tr>\n",
       "      <th>19</th>\n",
       "      <td>For years, the Fed had professed to be data de...</td>\n",
       "      <td>The market is having a hard time adjusting to ...</td>\n",
       "      <td>CNBC</td>\n",
       "    </tr>\n",
       "    <tr>\n",
       "      <th>20</th>\n",
       "      <td>Worry about the Trump administration kicking o...</td>\n",
       "      <td>Financial markets are not ready for a 'dangero...</td>\n",
       "      <td>CNBC</td>\n",
       "    </tr>\n",
       "    <tr>\n",
       "      <th>21</th>\n",
       "      <td>There's a deeper hawkish tilt to the Federal R...</td>\n",
       "      <td>How the Fed's outlook could be worrisome for m...</td>\n",
       "      <td>CNBC</td>\n",
       "    </tr>\n",
       "    <tr>\n",
       "      <th>22</th>\n",
       "      <td>Bitcoin failed to hold above $9,000 on Thursda...</td>\n",
       "      <td>Bitcoin falls back below $9,000 after Japan ad...</td>\n",
       "      <td>CNBC</td>\n",
       "    </tr>\n",
       "    <tr>\n",
       "      <th>23</th>\n",
       "      <td>Facebook users may flee the company's social m...</td>\n",
       "      <td>Facebook shares under pressure after Bank of A...</td>\n",
       "      <td>CNBC</td>\n",
       "    </tr>\n",
       "    <tr>\n",
       "      <th>24</th>\n",
       "      <td>It's hard to envision a slowdown in global eco...</td>\n",
       "      <td>Worried about stock earnings? Let the Fed's GD...</td>\n",
       "      <td>CNBC</td>\n",
       "    </tr>\n",
       "    <tr>\n",
       "      <th>25</th>\n",
       "      <td>Investors' expectations for three or four rate...</td>\n",
       "      <td>Janus' Bill Gross says US, global economies ar...</td>\n",
       "      <td>CNBC</td>\n",
       "    </tr>\n",
       "    <tr>\n",
       "      <th>26</th>\n",
       "      <td>Check out which companies are making headlines...</td>\n",
       "      <td>Stocks making the biggest moves premarket: FB,...</td>\n",
       "      <td>CNBC</td>\n",
       "    </tr>\n",
       "    <tr>\n",
       "      <th>27</th>\n",
       "      <td>Crude oil is having an impressive bounce, but ...</td>\n",
       "      <td>Crude oil is surging, but I'm not buying just yet</td>\n",
       "      <td>CNBC</td>\n",
       "    </tr>\n",
       "    <tr>\n",
       "      <th>28</th>\n",
       "      <td>Equities have been an ‘only child’ in the stoc...</td>\n",
       "      <td>10-year Treasury yield drops the most in 6 mon...</td>\n",
       "      <td>CNBC</td>\n",
       "    </tr>\n",
       "    <tr>\n",
       "      <th>29</th>\n",
       "      <td>\"What's worrisome about the first days of Pres...</td>\n",
       "      <td>Geopolitics: Five biggest global risks of 2018</td>\n",
       "      <td>CNBC</td>\n",
       "    </tr>\n",
       "    <tr>\n",
       "      <th>...</th>\n",
       "      <td>...</td>\n",
       "      <td>...</td>\n",
       "      <td>...</td>\n",
       "    </tr>\n",
       "    <tr>\n",
       "      <th>601</th>\n",
       "      <td>Dr. Nora Vögtle, head of an Emmy Noether junio...</td>\n",
       "      <td>How a genetic mutation can interfere with the ...</td>\n",
       "      <td>ScienceDaily</td>\n",
       "    </tr>\n",
       "    <tr>\n",
       "      <th>602</th>\n",
       "      <td>Research led by the University of Luxembourg i...</td>\n",
       "      <td>20-year-old assumptions in solar cell producti...</td>\n",
       "      <td>ScienceDaily</td>\n",
       "    </tr>\n",
       "    <tr>\n",
       "      <th>603</th>\n",
       "      <td>The ability to robustly and predictably regene...</td>\n",
       "      <td>Dental oral craniofacial tissue regeneration c...</td>\n",
       "      <td>ScienceDaily</td>\n",
       "    </tr>\n",
       "    <tr>\n",
       "      <th>604</th>\n",
       "      <td>An Institut Pasteur-CNRS research team has cha...</td>\n",
       "      <td>Staphylococcus aureus: A new mechanism involve...</td>\n",
       "      <td>ScienceDaily</td>\n",
       "    </tr>\n",
       "    <tr>\n",
       "      <th>605</th>\n",
       "      <td>Biodiversity -- the essential variety of life ...</td>\n",
       "      <td>Biodiversity and nature's contributions contin...</td>\n",
       "      <td>ScienceDaily</td>\n",
       "    </tr>\n",
       "    <tr>\n",
       "      <th>606</th>\n",
       "      <td>Newly discovered gene mutations may help expla...</td>\n",
       "      <td>Mutations of the bassoon gene causing new brai...</td>\n",
       "      <td>ScienceDaily</td>\n",
       "    </tr>\n",
       "    <tr>\n",
       "      <th>607</th>\n",
       "      <td>Maternal obesity and androgen excess induce se...</td>\n",
       "      <td>New study elucidates link between PCOS and anx...</td>\n",
       "      <td>ScienceDaily</td>\n",
       "    </tr>\n",
       "    <tr>\n",
       "      <th>608</th>\n",
       "      <td>Malignant tumour cells from a primary tumour h...</td>\n",
       "      <td>Breast cancer: New mechanism discovered for di...</td>\n",
       "      <td>ScienceDaily</td>\n",
       "    </tr>\n",
       "    <tr>\n",
       "      <th>609</th>\n",
       "      <td>More than 135,500 cases of cancer a year in th...</td>\n",
       "      <td>More than 2,500 cancer cases a week could be a...</td>\n",
       "      <td>ScienceDaily</td>\n",
       "    </tr>\n",
       "    <tr>\n",
       "      <th>610</th>\n",
       "      <td>Decontamination of landfills and open dumpsite...</td>\n",
       "      <td>Landfills: A future source of raw materials</td>\n",
       "      <td>ScienceDaily</td>\n",
       "    </tr>\n",
       "    <tr>\n",
       "      <th>611</th>\n",
       "      <td>A short electric pulse is all it takes to gene...</td>\n",
       "      <td>Keeping a tight hold on things: Robot-mounted ...</td>\n",
       "      <td>ScienceDaily</td>\n",
       "    </tr>\n",
       "    <tr>\n",
       "      <th>612</th>\n",
       "      <td>Wastewater cleaning technology created at Kaun...</td>\n",
       "      <td>Treating oily water: Efficiency exceeds requir...</td>\n",
       "      <td>ScienceDaily</td>\n",
       "    </tr>\n",
       "    <tr>\n",
       "      <th>613</th>\n",
       "      <td>Students classed as less able are being hinder...</td>\n",
       "      <td>Grouping students into ability-based sets hold...</td>\n",
       "      <td>ScienceDaily</td>\n",
       "    </tr>\n",
       "    <tr>\n",
       "      <th>614</th>\n",
       "      <td>Ant sperm recognize rival sperm and become mor...</td>\n",
       "      <td>Rival competition makes ant sperm better swimmers</td>\n",
       "      <td>ScienceDaily</td>\n",
       "    </tr>\n",
       "    <tr>\n",
       "      <th>615</th>\n",
       "      <td>Insights from past failures can help boost per...</td>\n",
       "      <td>Analyzing past failures may boost future perfo...</td>\n",
       "      <td>ScienceDaily</td>\n",
       "    </tr>\n",
       "    <tr>\n",
       "      <th>616</th>\n",
       "      <td>Researchers from Tokyo Metropolitan University...</td>\n",
       "      <td>Different neural strategies for junior high sc...</td>\n",
       "      <td>ScienceDaily</td>\n",
       "    </tr>\n",
       "    <tr>\n",
       "      <th>617</th>\n",
       "      <td>The brain is a complex network containing bill...</td>\n",
       "      <td>The brain learns completely differently than w...</td>\n",
       "      <td>ScienceDaily</td>\n",
       "    </tr>\n",
       "    <tr>\n",
       "      <th>618</th>\n",
       "      <td>Patients with severe spinal cord injury (SCI) ...</td>\n",
       "      <td>Epidural stimulation shown to normalize blood ...</td>\n",
       "      <td>ScienceDaily</td>\n",
       "    </tr>\n",
       "    <tr>\n",
       "      <th>619</th>\n",
       "      <td>While it's not news that weight loss and medic...</td>\n",
       "      <td>Obesity surgery linked to positive outcomes in...</td>\n",
       "      <td>ScienceDaily</td>\n",
       "    </tr>\n",
       "    <tr>\n",
       "      <th>620</th>\n",
       "      <td>It's easy and economical to make shiny pellets...</td>\n",
       "      <td>For graphite pellets, just add elbow grease: R...</td>\n",
       "      <td>ScienceDaily</td>\n",
       "    </tr>\n",
       "    <tr>\n",
       "      <th>621</th>\n",
       "      <td>Scientists have recently learned how to use li...</td>\n",
       "      <td>Using light to turn yeast into biochemical fac...</td>\n",
       "      <td>ScienceDaily</td>\n",
       "    </tr>\n",
       "    <tr>\n",
       "      <th>622</th>\n",
       "      <td>The first birth cohort study of its kind has f...</td>\n",
       "      <td>Direct evidence of exposure of pregnant women ...</td>\n",
       "      <td>ScienceDaily</td>\n",
       "    </tr>\n",
       "    <tr>\n",
       "      <th>623</th>\n",
       "      <td>Questale has just released a comprehensive mar...</td>\n",
       "      <td>New Report Provides 2011-2018 Overview of Fuel...</td>\n",
       "      <td>Token</td>\n",
       "    </tr>\n",
       "    <tr>\n",
       "      <th>624</th>\n",
       "      <td>Questale has just released a comprehensive mar...</td>\n",
       "      <td>Traffic Marking Paints market Research Report ...</td>\n",
       "      <td>Token</td>\n",
       "    </tr>\n",
       "    <tr>\n",
       "      <th>625</th>\n",
       "      <td>Questale has just released a comprehensive mar...</td>\n",
       "      <td>Isobutene market Research Report Released with...</td>\n",
       "      <td>Token</td>\n",
       "    </tr>\n",
       "    <tr>\n",
       "      <th>626</th>\n",
       "      <td>Questale has just released a comprehensive mar...</td>\n",
       "      <td>New Report Provides 2011-2018 Overview of Line...</td>\n",
       "      <td>Token</td>\n",
       "    </tr>\n",
       "    <tr>\n",
       "      <th>627</th>\n",
       "      <td>Questale has just released a comprehensive mar...</td>\n",
       "      <td>New Report Provides 2011-2018 Overview of Nano...</td>\n",
       "      <td>Token</td>\n",
       "    </tr>\n",
       "    <tr>\n",
       "      <th>628</th>\n",
       "      <td>Questale has just released a comprehensive mar...</td>\n",
       "      <td>Orthopedic Surgical Power Tools market Researc...</td>\n",
       "      <td>Token</td>\n",
       "    </tr>\n",
       "    <tr>\n",
       "      <th>629</th>\n",
       "      <td>Questale has just released a comprehensive mar...</td>\n",
       "      <td>New Report Provides 2011-2018 Overview of PC G...</td>\n",
       "      <td>Token</td>\n",
       "    </tr>\n",
       "    <tr>\n",
       "      <th>630</th>\n",
       "      <td>Questale has just released a comprehensive mar...</td>\n",
       "      <td>New Report Provides 2011-2018 Overview of Poly...</td>\n",
       "      <td>Token</td>\n",
       "    </tr>\n",
       "  </tbody>\n",
       "</table>\n",
       "<p>631 rows × 3 columns</p>\n",
       "</div>"
      ],
      "text/plain": [
       "                                                  text  \\\n",
       "0    CNBC's Jim Cramer welcomed Dropbox's successfu...   \n",
       "1    CNBC's Jim Cramer welcomed Dropbox's successfu...   \n",
       "2    After a week of panic and selling for the stoc...   \n",
       "3    Paychex: This old Cramer-fave will report earn...   \n",
       "4    The major indexes tried to recover Friday afte...   \n",
       "5    Bank of America's Merrill Lynch routinely misl...   \n",
       "6    One Wall Street firm is getting worried about ...   \n",
       "7    The Chinese are 'so ready for us' on trade, sa...   \n",
       "8    Darrell Cronk , president of the Wells Fargo I...   \n",
       "9    The market's recent sharp losses are healthy, ...   \n",
       "10   Japan's Financial Services Agency issued a war...   \n",
       "11   A prolonged bull market has prompted some reti...   \n",
       "12   Check out which companies are making headlines...   \n",
       "13   Cisco's impressive rally this year is just the...   \n",
       "14   Investors have renewed confidence in Nike afte...   \n",
       "15   The Dow, S&P 500 and Nasdaq are pacing for the...   \n",
       "16   Stock markets around the world saw sharp falls...   \n",
       "17   As the major averages dropped on Thursday, CNB...   \n",
       "18   Lighthizer: These are things that if China dom...   \n",
       "19   For years, the Fed had professed to be data de...   \n",
       "20   Worry about the Trump administration kicking o...   \n",
       "21   There's a deeper hawkish tilt to the Federal R...   \n",
       "22   Bitcoin failed to hold above $9,000 on Thursda...   \n",
       "23   Facebook users may flee the company's social m...   \n",
       "24   It's hard to envision a slowdown in global eco...   \n",
       "25   Investors' expectations for three or four rate...   \n",
       "26   Check out which companies are making headlines...   \n",
       "27   Crude oil is having an impressive bounce, but ...   \n",
       "28   Equities have been an ‘only child’ in the stoc...   \n",
       "29   \"What's worrisome about the first days of Pres...   \n",
       "..                                                 ...   \n",
       "601  Dr. Nora Vögtle, head of an Emmy Noether junio...   \n",
       "602  Research led by the University of Luxembourg i...   \n",
       "603  The ability to robustly and predictably regene...   \n",
       "604  An Institut Pasteur-CNRS research team has cha...   \n",
       "605  Biodiversity -- the essential variety of life ...   \n",
       "606  Newly discovered gene mutations may help expla...   \n",
       "607  Maternal obesity and androgen excess induce se...   \n",
       "608  Malignant tumour cells from a primary tumour h...   \n",
       "609  More than 135,500 cases of cancer a year in th...   \n",
       "610  Decontamination of landfills and open dumpsite...   \n",
       "611  A short electric pulse is all it takes to gene...   \n",
       "612  Wastewater cleaning technology created at Kaun...   \n",
       "613  Students classed as less able are being hinder...   \n",
       "614  Ant sperm recognize rival sperm and become mor...   \n",
       "615  Insights from past failures can help boost per...   \n",
       "616  Researchers from Tokyo Metropolitan University...   \n",
       "617  The brain is a complex network containing bill...   \n",
       "618  Patients with severe spinal cord injury (SCI) ...   \n",
       "619  While it's not news that weight loss and medic...   \n",
       "620  It's easy and economical to make shiny pellets...   \n",
       "621  Scientists have recently learned how to use li...   \n",
       "622  The first birth cohort study of its kind has f...   \n",
       "623  Questale has just released a comprehensive mar...   \n",
       "624  Questale has just released a comprehensive mar...   \n",
       "625  Questale has just released a comprehensive mar...   \n",
       "626  Questale has just released a comprehensive mar...   \n",
       "627  Questale has just released a comprehensive mar...   \n",
       "628  Questale has just released a comprehensive mar...   \n",
       "629  Questale has just released a comprehensive mar...   \n",
       "630  Questale has just released a comprehensive mar...   \n",
       "\n",
       "                                                 title        Source  \n",
       "0    Cramer Remix: The one bright spot after a toug...          CNBC  \n",
       "1    Cramer: Dropbox deserves to trade like a cloud...          CNBC  \n",
       "2    Cramer: Tommy Hilfiger parent PVH is a buy ahe...          CNBC  \n",
       "3    Cramer's game plan: Be prepared for more White...          CNBC  \n",
       "4    Five Dow stocks are in bear market territory. ...          CNBC  \n",
       "5    Bank of America in $42 million settlement over...          CNBC  \n",
       "6    Citi downgrades red-hot chip stock Micron due ...          CNBC  \n",
       "7    Cramer on Trump's China tariffs: Beijing is so...          CNBC  \n",
       "8    PRO Talks: Wells Fargo's Darrell Cronk on why ...          CNBC  \n",
       "9    Market retest of February correction is actual...          CNBC  \n",
       "10   Japan warns big cryptocurrency exchange about ...          CNBC  \n",
       "11   Stock market volatility could kill this risky ...          CNBC  \n",
       "12   Stocks making the biggest moves premarket: NKE...          CNBC  \n",
       "13   Goldman predicts 'significant' returns at Cisc...          CNBC  \n",
       "14   Dow stock Nike just had a blowout quarter and ...          CNBC  \n",
       "15   Stocks are having their worst week in over a m...          CNBC  \n",
       "16   Global markets slump as trade-war tensions esc...          CNBC  \n",
       "17   Cramer: This decline isn't about the Fed. It's...          CNBC  \n",
       "18   US could target 10 Chinese industries, includi...          CNBC  \n",
       "19   The market is having a hard time adjusting to ...          CNBC  \n",
       "20   Financial markets are not ready for a 'dangero...          CNBC  \n",
       "21   How the Fed's outlook could be worrisome for m...          CNBC  \n",
       "22   Bitcoin falls back below $9,000 after Japan ad...          CNBC  \n",
       "23   Facebook shares under pressure after Bank of A...          CNBC  \n",
       "24   Worried about stock earnings? Let the Fed's GD...          CNBC  \n",
       "25   Janus' Bill Gross says US, global economies ar...          CNBC  \n",
       "26   Stocks making the biggest moves premarket: FB,...          CNBC  \n",
       "27   Crude oil is surging, but I'm not buying just yet          CNBC  \n",
       "28   10-year Treasury yield drops the most in 6 mon...          CNBC  \n",
       "29      Geopolitics: Five biggest global risks of 2018          CNBC  \n",
       "..                                                 ...           ...  \n",
       "601  How a genetic mutation can interfere with the ...  ScienceDaily  \n",
       "602  20-year-old assumptions in solar cell producti...  ScienceDaily  \n",
       "603  Dental oral craniofacial tissue regeneration c...  ScienceDaily  \n",
       "604  Staphylococcus aureus: A new mechanism involve...  ScienceDaily  \n",
       "605  Biodiversity and nature's contributions contin...  ScienceDaily  \n",
       "606  Mutations of the bassoon gene causing new brai...  ScienceDaily  \n",
       "607  New study elucidates link between PCOS and anx...  ScienceDaily  \n",
       "608  Breast cancer: New mechanism discovered for di...  ScienceDaily  \n",
       "609  More than 2,500 cancer cases a week could be a...  ScienceDaily  \n",
       "610        Landfills: A future source of raw materials  ScienceDaily  \n",
       "611  Keeping a tight hold on things: Robot-mounted ...  ScienceDaily  \n",
       "612  Treating oily water: Efficiency exceeds requir...  ScienceDaily  \n",
       "613  Grouping students into ability-based sets hold...  ScienceDaily  \n",
       "614  Rival competition makes ant sperm better swimmers  ScienceDaily  \n",
       "615  Analyzing past failures may boost future perfo...  ScienceDaily  \n",
       "616  Different neural strategies for junior high sc...  ScienceDaily  \n",
       "617  The brain learns completely differently than w...  ScienceDaily  \n",
       "618  Epidural stimulation shown to normalize blood ...  ScienceDaily  \n",
       "619  Obesity surgery linked to positive outcomes in...  ScienceDaily  \n",
       "620  For graphite pellets, just add elbow grease: R...  ScienceDaily  \n",
       "621  Using light to turn yeast into biochemical fac...  ScienceDaily  \n",
       "622  Direct evidence of exposure of pregnant women ...  ScienceDaily  \n",
       "623  New Report Provides 2011-2018 Overview of Fuel...         Token  \n",
       "624  Traffic Marking Paints market Research Report ...         Token  \n",
       "625  Isobutene market Research Report Released with...         Token  \n",
       "626  New Report Provides 2011-2018 Overview of Line...         Token  \n",
       "627  New Report Provides 2011-2018 Overview of Nano...         Token  \n",
       "628  Orthopedic Surgical Power Tools market Researc...         Token  \n",
       "629  New Report Provides 2011-2018 Overview of PC G...         Token  \n",
       "630  New Report Provides 2011-2018 Overview of Poly...         Token  \n",
       "\n",
       "[631 rows x 3 columns]"
      ]
     },
     "execution_count": 231,
     "metadata": {},
     "output_type": "execute_result"
    }
   ],
   "source": [
    "df"
   ]
  },
  {
   "cell_type": "code",
   "execution_count": 232,
   "metadata": {},
   "outputs": [],
   "source": [
    "df[\"Target\"] = np.nan"
   ]
  },
  {
   "cell_type": "code",
   "execution_count": 233,
   "metadata": {},
   "outputs": [
    {
     "data": {
      "text/html": [
       "<div>\n",
       "<style scoped>\n",
       "    .dataframe tbody tr th:only-of-type {\n",
       "        vertical-align: middle;\n",
       "    }\n",
       "\n",
       "    .dataframe tbody tr th {\n",
       "        vertical-align: top;\n",
       "    }\n",
       "\n",
       "    .dataframe thead th {\n",
       "        text-align: right;\n",
       "    }\n",
       "</style>\n",
       "<table border=\"1\" class=\"dataframe\">\n",
       "  <thead>\n",
       "    <tr style=\"text-align: right;\">\n",
       "      <th></th>\n",
       "      <th>text</th>\n",
       "      <th>title</th>\n",
       "      <th>Source</th>\n",
       "      <th>Target</th>\n",
       "    </tr>\n",
       "  </thead>\n",
       "  <tbody>\n",
       "    <tr>\n",
       "      <th>0</th>\n",
       "      <td>CNBC's Jim Cramer welcomed Dropbox's successfu...</td>\n",
       "      <td>Cramer Remix: The one bright spot after a toug...</td>\n",
       "      <td>CNBC</td>\n",
       "      <td>NaN</td>\n",
       "    </tr>\n",
       "    <tr>\n",
       "      <th>1</th>\n",
       "      <td>CNBC's Jim Cramer welcomed Dropbox's successfu...</td>\n",
       "      <td>Cramer: Dropbox deserves to trade like a cloud...</td>\n",
       "      <td>CNBC</td>\n",
       "      <td>NaN</td>\n",
       "    </tr>\n",
       "    <tr>\n",
       "      <th>2</th>\n",
       "      <td>After a week of panic and selling for the stoc...</td>\n",
       "      <td>Cramer: Tommy Hilfiger parent PVH is a buy ahe...</td>\n",
       "      <td>CNBC</td>\n",
       "      <td>NaN</td>\n",
       "    </tr>\n",
       "    <tr>\n",
       "      <th>3</th>\n",
       "      <td>Paychex: This old Cramer-fave will report earn...</td>\n",
       "      <td>Cramer's game plan: Be prepared for more White...</td>\n",
       "      <td>CNBC</td>\n",
       "      <td>NaN</td>\n",
       "    </tr>\n",
       "    <tr>\n",
       "      <th>4</th>\n",
       "      <td>The major indexes tried to recover Friday afte...</td>\n",
       "      <td>Five Dow stocks are in bear market territory. ...</td>\n",
       "      <td>CNBC</td>\n",
       "      <td>NaN</td>\n",
       "    </tr>\n",
       "  </tbody>\n",
       "</table>\n",
       "</div>"
      ],
      "text/plain": [
       "                                                text  \\\n",
       "0  CNBC's Jim Cramer welcomed Dropbox's successfu...   \n",
       "1  CNBC's Jim Cramer welcomed Dropbox's successfu...   \n",
       "2  After a week of panic and selling for the stoc...   \n",
       "3  Paychex: This old Cramer-fave will report earn...   \n",
       "4  The major indexes tried to recover Friday afte...   \n",
       "\n",
       "                                               title Source  Target  \n",
       "0  Cramer Remix: The one bright spot after a toug...   CNBC     NaN  \n",
       "1  Cramer: Dropbox deserves to trade like a cloud...   CNBC     NaN  \n",
       "2  Cramer: Tommy Hilfiger parent PVH is a buy ahe...   CNBC     NaN  \n",
       "3  Cramer's game plan: Be prepared for more White...   CNBC     NaN  \n",
       "4  Five Dow stocks are in bear market territory. ...   CNBC     NaN  "
      ]
     },
     "execution_count": 233,
     "metadata": {},
     "output_type": "execute_result"
    }
   ],
   "source": [
    "df.head()"
   ]
  },
  {
   "cell_type": "code",
   "execution_count": 234,
   "metadata": {},
   "outputs": [],
   "source": [
    "df['Target'] = np.where((df['Source'] == \"Herald\")\n",
    "                        | (df['Source'] == \"Token\") | (df['Source'] == \"ReportAge\")\n",
    "                        | (df['Source'] == \"HM\")\n",
    "                        | (df['Source'] == \"IT\") | (df['Source'] == \"Satpr\"), \"Spam\", \"Non-Spam\")"
   ]
  },
  {
   "cell_type": "code",
   "execution_count": 237,
   "metadata": {},
   "outputs": [
    {
     "data": {
      "text/plain": [
       "Non-Spam    483\n",
       "Spam        148\n",
       "Name: Target, dtype: int64"
      ]
     },
     "execution_count": 237,
     "metadata": {},
     "output_type": "execute_result"
    }
   ],
   "source": [
    "df.Target.value_counts()"
   ]
  },
  {
   "cell_type": "code",
   "execution_count": 238,
   "metadata": {},
   "outputs": [
    {
     "data": {
      "text/html": [
       "<div>\n",
       "<style scoped>\n",
       "    .dataframe tbody tr th:only-of-type {\n",
       "        vertical-align: middle;\n",
       "    }\n",
       "\n",
       "    .dataframe tbody tr th {\n",
       "        vertical-align: top;\n",
       "    }\n",
       "\n",
       "    .dataframe thead th {\n",
       "        text-align: right;\n",
       "    }\n",
       "</style>\n",
       "<table border=\"1\" class=\"dataframe\">\n",
       "  <thead>\n",
       "    <tr style=\"text-align: right;\">\n",
       "      <th></th>\n",
       "      <th>text</th>\n",
       "      <th>title</th>\n",
       "      <th>Source</th>\n",
       "      <th>Target</th>\n",
       "    </tr>\n",
       "  </thead>\n",
       "  <tbody>\n",
       "    <tr>\n",
       "      <th>0</th>\n",
       "      <td>CNBC's Jim Cramer welcomed Dropbox's successfu...</td>\n",
       "      <td>Cramer Remix: The one bright spot after a toug...</td>\n",
       "      <td>CNBC</td>\n",
       "      <td>Non-Spam</td>\n",
       "    </tr>\n",
       "    <tr>\n",
       "      <th>1</th>\n",
       "      <td>CNBC's Jim Cramer welcomed Dropbox's successfu...</td>\n",
       "      <td>Cramer: Dropbox deserves to trade like a cloud...</td>\n",
       "      <td>CNBC</td>\n",
       "      <td>Non-Spam</td>\n",
       "    </tr>\n",
       "    <tr>\n",
       "      <th>2</th>\n",
       "      <td>After a week of panic and selling for the stoc...</td>\n",
       "      <td>Cramer: Tommy Hilfiger parent PVH is a buy ahe...</td>\n",
       "      <td>CNBC</td>\n",
       "      <td>Non-Spam</td>\n",
       "    </tr>\n",
       "    <tr>\n",
       "      <th>3</th>\n",
       "      <td>Paychex: This old Cramer-fave will report earn...</td>\n",
       "      <td>Cramer's game plan: Be prepared for more White...</td>\n",
       "      <td>CNBC</td>\n",
       "      <td>Non-Spam</td>\n",
       "    </tr>\n",
       "    <tr>\n",
       "      <th>4</th>\n",
       "      <td>The major indexes tried to recover Friday afte...</td>\n",
       "      <td>Five Dow stocks are in bear market territory. ...</td>\n",
       "      <td>CNBC</td>\n",
       "      <td>Non-Spam</td>\n",
       "    </tr>\n",
       "  </tbody>\n",
       "</table>\n",
       "</div>"
      ],
      "text/plain": [
       "                                                text  \\\n",
       "0  CNBC's Jim Cramer welcomed Dropbox's successfu...   \n",
       "1  CNBC's Jim Cramer welcomed Dropbox's successfu...   \n",
       "2  After a week of panic and selling for the stoc...   \n",
       "3  Paychex: This old Cramer-fave will report earn...   \n",
       "4  The major indexes tried to recover Friday afte...   \n",
       "\n",
       "                                               title Source    Target  \n",
       "0  Cramer Remix: The one bright spot after a toug...   CNBC  Non-Spam  \n",
       "1  Cramer: Dropbox deserves to trade like a cloud...   CNBC  Non-Spam  \n",
       "2  Cramer: Tommy Hilfiger parent PVH is a buy ahe...   CNBC  Non-Spam  \n",
       "3  Cramer's game plan: Be prepared for more White...   CNBC  Non-Spam  \n",
       "4  Five Dow stocks are in bear market territory. ...   CNBC  Non-Spam  "
      ]
     },
     "execution_count": 238,
     "metadata": {},
     "output_type": "execute_result"
    }
   ],
   "source": [
    "df.head()"
   ]
  },
  {
   "cell_type": "code",
   "execution_count": 239,
   "metadata": {},
   "outputs": [],
   "source": [
    "df.to_excel('/Users/ambardubey/Downloads/Tableau.xlsx')"
   ]
  },
  {
   "cell_type": "markdown",
   "metadata": {},
   "source": [
    "# Data Analysis"
   ]
  },
  {
   "cell_type": "code",
   "execution_count": 82,
   "metadata": {},
   "outputs": [
    {
     "name": "stderr",
     "output_type": "stream",
     "text": [
      "UsageError: Line magic function `%` not found.\n"
     ]
    }
   ],
   "source": [
    "# disable warnings from printing\n",
    "from warnings import filterwarnings                                                              \n",
    "filterwarnings('ignore')\n",
    "\n",
    "# for visualizations\n",
    "import matplotlib\n",
    "import seaborn\n",
    "import seaborn as sns\n",
    "#import ggplot\n",
    "#from ggplot import *\n",
    "import matplotlib as mpl\n",
    "import matplotlib.pyplot as plt\n",
    "% config InlineBackend.figure_format = 'png'\n",
    "# allow plots to appear within the notebook\n",
    "% matplotlib inline"
   ]
  },
  {
   "cell_type": "code",
   "execution_count": 87,
   "metadata": {},
   "outputs": [
    {
     "data": {
      "text/plain": [
       "<Figure size 432x288 with 0 Axes>"
      ]
     },
     "execution_count": 87,
     "metadata": {},
     "output_type": "execute_result"
    },
    {
     "data": {
      "image/png": "[encoded data removed]",
      "text/plain": [
       "<Figure size 1584x1080 with 1 Axes>"
      ]
     },
     "metadata": {
      "needs_background": "light"
     },
     "output_type": "display_data"
    },
    {
     "data": {
      "text/plain": [
       "<Figure size 432x288 with 0 Axes>"
      ]
     },
     "metadata": {},
     "output_type": "display_data"
    }
   ],
   "source": [
    "sns.countplot(y = \"Source\" , data = df , order = df[\"Source\"].value_counts().index)\n",
    "plt.gcf().set_size_inches(22, 15)\n",
    "plt.figure()"
   ]
  },
  {
   "cell_type": "code",
   "execution_count": 98,
   "metadata": {},
   "outputs": [
    {
     "data": {
      "text/plain": [
       "<Figure size 432x288 with 0 Axes>"
      ]
     },
     "execution_count": 98,
     "metadata": {},
     "output_type": "execute_result"
    },
    {
     "data": {
      "image/png": "[encoded data removed]",
      "text/plain": [
       "<Figure size 1080x1008 with 1 Axes>"
      ]
     },
     "metadata": {},
     "output_type": "display_data"
    },
    {
     "data": {
      "text/plain": [
       "<Figure size 432x288 with 0 Axes>"
      ]
     },
     "metadata": {},
     "output_type": "display_data"
    }
   ],
   "source": [
    "pd.Series(df[\"Target\"]).value_counts().plot(kind = \"pie\" , explode = [0, 0.08] , autopct='%1.1f%%', shadow = True)\n",
    "plt.legend([\"Non-Spam\", \"Spam\"])\n",
    "plt.gcf().set_size_inches(15, 14)\n",
    "plt.figure()"
   ]
  },
  {
   "cell_type": "code",
   "execution_count": 109,
   "metadata": {},
   "outputs": [],
   "source": [
    "#Concatenating Text and Title into single column\n",
    "\n",
    "df['TnT']=df1['title'].astype(str)+'-'+df['text']"
   ]
  },
  {
   "cell_type": "code",
   "execution_count": 209,
   "metadata": {},
   "outputs": [
    {
     "data": {
      "text/html": [
       "<div>\n",
       "<style scoped>\n",
       "    .dataframe tbody tr th:only-of-type {\n",
       "        vertical-align: middle;\n",
       "    }\n",
       "\n",
       "    .dataframe tbody tr th {\n",
       "        vertical-align: top;\n",
       "    }\n",
       "\n",
       "    .dataframe thead th {\n",
       "        text-align: right;\n",
       "    }\n",
       "</style>\n",
       "<table border=\"1\" class=\"dataframe\">\n",
       "  <thead>\n",
       "    <tr style=\"text-align: right;\">\n",
       "      <th></th>\n",
       "      <th>Target</th>\n",
       "      <th>TnT</th>\n",
       "    </tr>\n",
       "  </thead>\n",
       "  <tbody>\n",
       "    <tr>\n",
       "      <th>0</th>\n",
       "      <td>0</td>\n",
       "      <td>cramer remix one bright spot tough weekcnbc ji...</td>\n",
       "    </tr>\n",
       "    <tr>\n",
       "      <th>1</th>\n",
       "      <td>0</td>\n",
       "      <td>cramer dropbox deserv trade like cloud king ca...</td>\n",
       "    </tr>\n",
       "    <tr>\n",
       "      <th>2</th>\n",
       "      <td>0</td>\n",
       "      <td>cramer tommi hilfig parent pvh buy ahead earni...</td>\n",
       "    </tr>\n",
       "    <tr>\n",
       "      <th>3</th>\n",
       "      <td>0</td>\n",
       "      <td>cramer game plan prepar white hous chaospayche...</td>\n",
       "    </tr>\n",
       "    <tr>\n",
       "      <th>4</th>\n",
       "      <td>0</td>\n",
       "      <td>five dow stock bear market territori merck gen...</td>\n",
       "    </tr>\n",
       "  </tbody>\n",
       "</table>\n",
       "</div>"
      ],
      "text/plain": [
       "   Target                                                TnT\n",
       "0       0  cramer remix one bright spot tough weekcnbc ji...\n",
       "1       0  cramer dropbox deserv trade like cloud king ca...\n",
       "2       0  cramer tommi hilfig parent pvh buy ahead earni...\n",
       "3       0  cramer game plan prepar white hous chaospayche...\n",
       "4       0  five dow stock bear market territori merck gen..."
      ]
     },
     "execution_count": 209,
     "metadata": {},
     "output_type": "execute_result"
    }
   ],
   "source": [
    "df.head()"
   ]
  },
  {
   "cell_type": "code",
   "execution_count": 118,
   "metadata": {},
   "outputs": [],
   "source": [
    "#Word Cloud\n",
    "import wordcloud"
   ]
  },
  {
   "cell_type": "code",
   "execution_count": 119,
   "metadata": {},
   "outputs": [],
   "source": [
    "def show_wordcloud(data_spam_or_notSpam, title):\n",
    "    text = ' '.join(data_spam_or_notSpam['text'].astype(str).tolist())\n",
    "    stopwords = set(wordcloud.STOPWORDS)\n",
    "    \n",
    "    fig_wordcloud = wordcloud.WordCloud(stopwords=stopwords,background_color='lightgrey',\n",
    "                    colormap='nipy_spectral', width=800, height=600).generate(text)\n",
    "    \n",
    "    plt.figure(figsize=(10,7), frameon=True)\n",
    "    plt.imshow(fig_wordcloud)  \n",
    "    plt.axis('off')\n",
    "    plt.title(title, fontsize=20 )\n",
    "    plt.show()"
   ]
  },
  {
   "cell_type": "code",
   "execution_count": 111,
   "metadata": {},
   "outputs": [],
   "source": [
    "df1 = df[['title','text','Target']].copy()"
   ]
  },
  {
   "cell_type": "code",
   "execution_count": 112,
   "metadata": {},
   "outputs": [
    {
     "data": {
      "text/html": [
       "<div>\n",
       "<style scoped>\n",
       "    .dataframe tbody tr th:only-of-type {\n",
       "        vertical-align: middle;\n",
       "    }\n",
       "\n",
       "    .dataframe tbody tr th {\n",
       "        vertical-align: top;\n",
       "    }\n",
       "\n",
       "    .dataframe thead th {\n",
       "        text-align: right;\n",
       "    }\n",
       "</style>\n",
       "<table border=\"1\" class=\"dataframe\">\n",
       "  <thead>\n",
       "    <tr style=\"text-align: right;\">\n",
       "      <th></th>\n",
       "      <th>title</th>\n",
       "      <th>text</th>\n",
       "      <th>Target</th>\n",
       "    </tr>\n",
       "  </thead>\n",
       "  <tbody>\n",
       "    <tr>\n",
       "      <th>0</th>\n",
       "      <td>Cramer Remix: The one bright spot after a toug...</td>\n",
       "      <td>CNBC's Jim Cramer welcomed Dropbox's successfu...</td>\n",
       "      <td>Non-Spam</td>\n",
       "    </tr>\n",
       "    <tr>\n",
       "      <th>1</th>\n",
       "      <td>Cramer: Dropbox deserves to trade like a cloud...</td>\n",
       "      <td>CNBC's Jim Cramer welcomed Dropbox's successfu...</td>\n",
       "      <td>Non-Spam</td>\n",
       "    </tr>\n",
       "    <tr>\n",
       "      <th>2</th>\n",
       "      <td>Cramer: Tommy Hilfiger parent PVH is a buy ahe...</td>\n",
       "      <td>After a week of panic and selling for the stoc...</td>\n",
       "      <td>Non-Spam</td>\n",
       "    </tr>\n",
       "    <tr>\n",
       "      <th>3</th>\n",
       "      <td>Cramer's game plan: Be prepared for more White...</td>\n",
       "      <td>Paychex: This old Cramer-fave will report earn...</td>\n",
       "      <td>Non-Spam</td>\n",
       "    </tr>\n",
       "    <tr>\n",
       "      <th>4</th>\n",
       "      <td>Five Dow stocks are in bear market territory. ...</td>\n",
       "      <td>The major indexes tried to recover Friday afte...</td>\n",
       "      <td>Non-Spam</td>\n",
       "    </tr>\n",
       "  </tbody>\n",
       "</table>\n",
       "</div>"
      ],
      "text/plain": [
       "                                               title  \\\n",
       "0  Cramer Remix: The one bright spot after a toug...   \n",
       "1  Cramer: Dropbox deserves to trade like a cloud...   \n",
       "2  Cramer: Tommy Hilfiger parent PVH is a buy ahe...   \n",
       "3  Cramer's game plan: Be prepared for more White...   \n",
       "4  Five Dow stocks are in bear market territory. ...   \n",
       "\n",
       "                                                text    Target  \n",
       "0  CNBC's Jim Cramer welcomed Dropbox's successfu...  Non-Spam  \n",
       "1  CNBC's Jim Cramer welcomed Dropbox's successfu...  Non-Spam  \n",
       "2  After a week of panic and selling for the stoc...  Non-Spam  \n",
       "3  Paychex: This old Cramer-fave will report earn...  Non-Spam  \n",
       "4  The major indexes tried to recover Friday afte...  Non-Spam  "
      ]
     },
     "execution_count": 112,
     "metadata": {},
     "output_type": "execute_result"
    }
   ],
   "source": [
    "df1.head()"
   ]
  },
  {
   "cell_type": "code",
   "execution_count": 113,
   "metadata": {},
   "outputs": [],
   "source": [
    "data_notSpam  = df1[df1['Target'] == 'Non-Spam'].copy()\n",
    "data_spam = df1[df1['Target'] == 'Spam'].copy()"
   ]
  },
  {
   "cell_type": "code",
   "execution_count": 114,
   "metadata": {},
   "outputs": [],
   "source": [
    "data_notSpam = data_notSpam[['text']].copy()\n",
    "data_spam = data_spam[['text']].copy()\n",
    "\n",
    "#df1 = df[['title','text','Target']].copy()"
   ]
  },
  {
   "cell_type": "code",
   "execution_count": 120,
   "metadata": {},
   "outputs": [
    {
     "data": {
      "image/png": "[encoded data removed]",
      "text/plain": [
       "<Figure size 720x504 with 1 Axes>"
      ]
     },
     "metadata": {
      "needs_background": "light"
     },
     "output_type": "display_data"
    }
   ],
   "source": [
    "show_wordcloud(data_notSpam, \"Non-Spam messages\")"
   ]
  },
  {
   "cell_type": "code",
   "execution_count": 121,
   "metadata": {},
   "outputs": [
    {
     "data": {
      "image/png": "[encoded data removed]",
      "text/plain": [
       "<Figure size 720x504 with 1 Axes>"
      ]
     },
     "metadata": {
      "needs_background": "light"
     },
     "output_type": "display_data"
    }
   ],
   "source": [
    "show_wordcloud(data_spam, \"Spam messages\")"
   ]
  },
  {
   "cell_type": "code",
   "execution_count": 122,
   "metadata": {},
   "outputs": [
    {
     "data": {
      "text/html": [
       "<div>\n",
       "<style scoped>\n",
       "    .dataframe tbody tr th:only-of-type {\n",
       "        vertical-align: middle;\n",
       "    }\n",
       "\n",
       "    .dataframe tbody tr th {\n",
       "        vertical-align: top;\n",
       "    }\n",
       "\n",
       "    .dataframe thead th {\n",
       "        text-align: right;\n",
       "    }\n",
       "</style>\n",
       "<table border=\"1\" class=\"dataframe\">\n",
       "  <thead>\n",
       "    <tr style=\"text-align: right;\">\n",
       "      <th></th>\n",
       "      <th>text</th>\n",
       "      <th>title</th>\n",
       "      <th>Source</th>\n",
       "      <th>Target</th>\n",
       "      <th>TnT</th>\n",
       "    </tr>\n",
       "  </thead>\n",
       "  <tbody>\n",
       "    <tr>\n",
       "      <th>0</th>\n",
       "      <td>CNBC's Jim Cramer welcomed Dropbox's successfu...</td>\n",
       "      <td>Cramer Remix: The one bright spot after a toug...</td>\n",
       "      <td>CNBC</td>\n",
       "      <td>Non-Spam</td>\n",
       "      <td>Cramer Remix: The one bright spot after a toug...</td>\n",
       "    </tr>\n",
       "    <tr>\n",
       "      <th>1</th>\n",
       "      <td>CNBC's Jim Cramer welcomed Dropbox's successfu...</td>\n",
       "      <td>Cramer: Dropbox deserves to trade like a cloud...</td>\n",
       "      <td>CNBC</td>\n",
       "      <td>Non-Spam</td>\n",
       "      <td>Cramer: Dropbox deserves to trade like a cloud...</td>\n",
       "    </tr>\n",
       "    <tr>\n",
       "      <th>2</th>\n",
       "      <td>After a week of panic and selling for the stoc...</td>\n",
       "      <td>Cramer: Tommy Hilfiger parent PVH is a buy ahe...</td>\n",
       "      <td>CNBC</td>\n",
       "      <td>Non-Spam</td>\n",
       "      <td>Cramer: Tommy Hilfiger parent PVH is a buy ahe...</td>\n",
       "    </tr>\n",
       "    <tr>\n",
       "      <th>3</th>\n",
       "      <td>Paychex: This old Cramer-fave will report earn...</td>\n",
       "      <td>Cramer's game plan: Be prepared for more White...</td>\n",
       "      <td>CNBC</td>\n",
       "      <td>Non-Spam</td>\n",
       "      <td>Cramer's game plan: Be prepared for more White...</td>\n",
       "    </tr>\n",
       "    <tr>\n",
       "      <th>4</th>\n",
       "      <td>The major indexes tried to recover Friday afte...</td>\n",
       "      <td>Five Dow stocks are in bear market territory. ...</td>\n",
       "      <td>CNBC</td>\n",
       "      <td>Non-Spam</td>\n",
       "      <td>Five Dow stocks are in bear market territory. ...</td>\n",
       "    </tr>\n",
       "  </tbody>\n",
       "</table>\n",
       "</div>"
      ],
      "text/plain": [
       "                                                text  \\\n",
       "0  CNBC's Jim Cramer welcomed Dropbox's successfu...   \n",
       "1  CNBC's Jim Cramer welcomed Dropbox's successfu...   \n",
       "2  After a week of panic and selling for the stoc...   \n",
       "3  Paychex: This old Cramer-fave will report earn...   \n",
       "4  The major indexes tried to recover Friday afte...   \n",
       "\n",
       "                                               title Source    Target  \\\n",
       "0  Cramer Remix: The one bright spot after a toug...   CNBC  Non-Spam   \n",
       "1  Cramer: Dropbox deserves to trade like a cloud...   CNBC  Non-Spam   \n",
       "2  Cramer: Tommy Hilfiger parent PVH is a buy ahe...   CNBC  Non-Spam   \n",
       "3  Cramer's game plan: Be prepared for more White...   CNBC  Non-Spam   \n",
       "4  Five Dow stocks are in bear market territory. ...   CNBC  Non-Spam   \n",
       "\n",
       "                                                 TnT  \n",
       "0  Cramer Remix: The one bright spot after a toug...  \n",
       "1  Cramer: Dropbox deserves to trade like a cloud...  \n",
       "2  Cramer: Tommy Hilfiger parent PVH is a buy ahe...  \n",
       "3  Cramer's game plan: Be prepared for more White...  \n",
       "4  Five Dow stocks are in bear market territory. ...  "
      ]
     },
     "execution_count": 122,
     "metadata": {},
     "output_type": "execute_result"
    }
   ],
   "source": [
    "df.head()"
   ]
  },
  {
   "cell_type": "code",
   "execution_count": 123,
   "metadata": {},
   "outputs": [],
   "source": [
    "#Dataframe for Title\n",
    "df_title = df[['title','Target']].copy()"
   ]
  },
  {
   "cell_type": "code",
   "execution_count": 124,
   "metadata": {},
   "outputs": [],
   "source": [
    "del df['text']\n",
    "del df['title']\n",
    "del df['Source']"
   ]
  },
  {
   "cell_type": "markdown",
   "metadata": {},
   "source": [
    "# Data Preprocessing"
   ]
  },
  {
   "cell_type": "code",
   "execution_count": 131,
   "metadata": {},
   "outputs": [],
   "source": [
    "import nltk\n",
    "from nltk.corpus import stopwords\n",
    "from nltk.stem import PorterStemmer\n",
    "from sklearn.ensemble import GradientBoostingClassifier\n",
    "from sklearn.naive_bayes import GaussianNB\n",
    "from sklearn.preprocessing import LabelEncoder\n",
    "import re\n",
    "from sklearn.feature_extraction.text import CountVectorizer, TfidfVectorizer\n",
    "from sklearn.model_selection import cross_val_score\n",
    "from sklearn.metrics import accuracy_score, make_scorer"
   ]
  },
  {
   "cell_type": "code",
   "execution_count": 128,
   "metadata": {},
   "outputs": [],
   "source": [
    "df['Target'] = np.where((df['Target'] == \"Spam\"), 1, 0)"
   ]
  },
  {
   "cell_type": "code",
   "execution_count": 129,
   "metadata": {},
   "outputs": [
    {
     "data": {
      "text/html": [
       "<div>\n",
       "<style scoped>\n",
       "    .dataframe tbody tr th:only-of-type {\n",
       "        vertical-align: middle;\n",
       "    }\n",
       "\n",
       "    .dataframe tbody tr th {\n",
       "        vertical-align: top;\n",
       "    }\n",
       "\n",
       "    .dataframe thead th {\n",
       "        text-align: right;\n",
       "    }\n",
       "</style>\n",
       "<table border=\"1\" class=\"dataframe\">\n",
       "  <thead>\n",
       "    <tr style=\"text-align: right;\">\n",
       "      <th></th>\n",
       "      <th>Target</th>\n",
       "      <th>TnT</th>\n",
       "    </tr>\n",
       "  </thead>\n",
       "  <tbody>\n",
       "    <tr>\n",
       "      <th>0</th>\n",
       "      <td>0</td>\n",
       "      <td>Cramer Remix: The one bright spot after a toug...</td>\n",
       "    </tr>\n",
       "    <tr>\n",
       "      <th>1</th>\n",
       "      <td>0</td>\n",
       "      <td>Cramer: Dropbox deserves to trade like a cloud...</td>\n",
       "    </tr>\n",
       "    <tr>\n",
       "      <th>2</th>\n",
       "      <td>0</td>\n",
       "      <td>Cramer: Tommy Hilfiger parent PVH is a buy ahe...</td>\n",
       "    </tr>\n",
       "    <tr>\n",
       "      <th>3</th>\n",
       "      <td>0</td>\n",
       "      <td>Cramer's game plan: Be prepared for more White...</td>\n",
       "    </tr>\n",
       "    <tr>\n",
       "      <th>4</th>\n",
       "      <td>0</td>\n",
       "      <td>Five Dow stocks are in bear market territory. ...</td>\n",
       "    </tr>\n",
       "    <tr>\n",
       "      <th>5</th>\n",
       "      <td>0</td>\n",
       "      <td>Bank of America in $42 million settlement over...</td>\n",
       "    </tr>\n",
       "    <tr>\n",
       "      <th>6</th>\n",
       "      <td>0</td>\n",
       "      <td>Citi downgrades red-hot chip stock Micron due ...</td>\n",
       "    </tr>\n",
       "    <tr>\n",
       "      <th>7</th>\n",
       "      <td>0</td>\n",
       "      <td>Cramer on Trump's China tariffs: Beijing is so...</td>\n",
       "    </tr>\n",
       "    <tr>\n",
       "      <th>8</th>\n",
       "      <td>0</td>\n",
       "      <td>PRO Talks: Wells Fargo's Darrell Cronk on why ...</td>\n",
       "    </tr>\n",
       "    <tr>\n",
       "      <th>9</th>\n",
       "      <td>0</td>\n",
       "      <td>Market retest of February correction is actual...</td>\n",
       "    </tr>\n",
       "    <tr>\n",
       "      <th>10</th>\n",
       "      <td>0</td>\n",
       "      <td>Japan warns big cryptocurrency exchange about ...</td>\n",
       "    </tr>\n",
       "    <tr>\n",
       "      <th>11</th>\n",
       "      <td>0</td>\n",
       "      <td>Stock market volatility could kill this risky ...</td>\n",
       "    </tr>\n",
       "    <tr>\n",
       "      <th>12</th>\n",
       "      <td>0</td>\n",
       "      <td>Stocks making the biggest moves premarket: NKE...</td>\n",
       "    </tr>\n",
       "    <tr>\n",
       "      <th>13</th>\n",
       "      <td>0</td>\n",
       "      <td>Goldman predicts 'significant' returns at Cisc...</td>\n",
       "    </tr>\n",
       "    <tr>\n",
       "      <th>14</th>\n",
       "      <td>0</td>\n",
       "      <td>Dow stock Nike just had a blowout quarter and ...</td>\n",
       "    </tr>\n",
       "    <tr>\n",
       "      <th>15</th>\n",
       "      <td>0</td>\n",
       "      <td>Stocks are having their worst week in over a m...</td>\n",
       "    </tr>\n",
       "    <tr>\n",
       "      <th>16</th>\n",
       "      <td>0</td>\n",
       "      <td>Global markets slump as trade-war tensions esc...</td>\n",
       "    </tr>\n",
       "    <tr>\n",
       "      <th>17</th>\n",
       "      <td>0</td>\n",
       "      <td>Cramer: This decline isn't about the Fed. It's...</td>\n",
       "    </tr>\n",
       "    <tr>\n",
       "      <th>18</th>\n",
       "      <td>0</td>\n",
       "      <td>US could target 10 Chinese industries, includi...</td>\n",
       "    </tr>\n",
       "    <tr>\n",
       "      <th>19</th>\n",
       "      <td>0</td>\n",
       "      <td>The market is having a hard time adjusting to ...</td>\n",
       "    </tr>\n",
       "    <tr>\n",
       "      <th>20</th>\n",
       "      <td>0</td>\n",
       "      <td>Financial markets are not ready for a 'dangero...</td>\n",
       "    </tr>\n",
       "    <tr>\n",
       "      <th>21</th>\n",
       "      <td>0</td>\n",
       "      <td>How the Fed's outlook could be worrisome for m...</td>\n",
       "    </tr>\n",
       "    <tr>\n",
       "      <th>22</th>\n",
       "      <td>0</td>\n",
       "      <td>Bitcoin falls back below $9,000 after Japan ad...</td>\n",
       "    </tr>\n",
       "    <tr>\n",
       "      <th>23</th>\n",
       "      <td>0</td>\n",
       "      <td>Facebook shares under pressure after Bank of A...</td>\n",
       "    </tr>\n",
       "    <tr>\n",
       "      <th>24</th>\n",
       "      <td>0</td>\n",
       "      <td>Worried about stock earnings? Let the Fed's GD...</td>\n",
       "    </tr>\n",
       "    <tr>\n",
       "      <th>25</th>\n",
       "      <td>0</td>\n",
       "      <td>Janus' Bill Gross says US, global economies ar...</td>\n",
       "    </tr>\n",
       "    <tr>\n",
       "      <th>26</th>\n",
       "      <td>0</td>\n",
       "      <td>Stocks making the biggest moves premarket: FB,...</td>\n",
       "    </tr>\n",
       "    <tr>\n",
       "      <th>27</th>\n",
       "      <td>0</td>\n",
       "      <td>Crude oil is surging, but I'm not buying just ...</td>\n",
       "    </tr>\n",
       "    <tr>\n",
       "      <th>28</th>\n",
       "      <td>0</td>\n",
       "      <td>10-year Treasury yield drops the most in 6 mon...</td>\n",
       "    </tr>\n",
       "    <tr>\n",
       "      <th>29</th>\n",
       "      <td>0</td>\n",
       "      <td>Geopolitics: Five biggest global risks of 2018...</td>\n",
       "    </tr>\n",
       "    <tr>\n",
       "      <th>...</th>\n",
       "      <td>...</td>\n",
       "      <td>...</td>\n",
       "    </tr>\n",
       "    <tr>\n",
       "      <th>601</th>\n",
       "      <td>0</td>\n",
       "      <td>How a genetic mutation can interfere with the ...</td>\n",
       "    </tr>\n",
       "    <tr>\n",
       "      <th>602</th>\n",
       "      <td>0</td>\n",
       "      <td>20-year-old assumptions in solar cell producti...</td>\n",
       "    </tr>\n",
       "    <tr>\n",
       "      <th>603</th>\n",
       "      <td>0</td>\n",
       "      <td>Dental oral craniofacial tissue regeneration c...</td>\n",
       "    </tr>\n",
       "    <tr>\n",
       "      <th>604</th>\n",
       "      <td>0</td>\n",
       "      <td>Staphylococcus aureus: A new mechanism involve...</td>\n",
       "    </tr>\n",
       "    <tr>\n",
       "      <th>605</th>\n",
       "      <td>0</td>\n",
       "      <td>Biodiversity and nature's contributions contin...</td>\n",
       "    </tr>\n",
       "    <tr>\n",
       "      <th>606</th>\n",
       "      <td>0</td>\n",
       "      <td>Mutations of the bassoon gene causing new brai...</td>\n",
       "    </tr>\n",
       "    <tr>\n",
       "      <th>607</th>\n",
       "      <td>0</td>\n",
       "      <td>New study elucidates link between PCOS and anx...</td>\n",
       "    </tr>\n",
       "    <tr>\n",
       "      <th>608</th>\n",
       "      <td>0</td>\n",
       "      <td>Breast cancer: New mechanism discovered for di...</td>\n",
       "    </tr>\n",
       "    <tr>\n",
       "      <th>609</th>\n",
       "      <td>0</td>\n",
       "      <td>More than 2,500 cancer cases a week could be a...</td>\n",
       "    </tr>\n",
       "    <tr>\n",
       "      <th>610</th>\n",
       "      <td>0</td>\n",
       "      <td>Landfills: A future source of raw materials-De...</td>\n",
       "    </tr>\n",
       "    <tr>\n",
       "      <th>611</th>\n",
       "      <td>0</td>\n",
       "      <td>Keeping a tight hold on things: Robot-mounted ...</td>\n",
       "    </tr>\n",
       "    <tr>\n",
       "      <th>612</th>\n",
       "      <td>0</td>\n",
       "      <td>Treating oily water: Efficiency exceeds requir...</td>\n",
       "    </tr>\n",
       "    <tr>\n",
       "      <th>613</th>\n",
       "      <td>0</td>\n",
       "      <td>Grouping students into ability-based sets hold...</td>\n",
       "    </tr>\n",
       "    <tr>\n",
       "      <th>614</th>\n",
       "      <td>0</td>\n",
       "      <td>Rival competition makes ant sperm better swimm...</td>\n",
       "    </tr>\n",
       "    <tr>\n",
       "      <th>615</th>\n",
       "      <td>0</td>\n",
       "      <td>Analyzing past failures may boost future perfo...</td>\n",
       "    </tr>\n",
       "    <tr>\n",
       "      <th>616</th>\n",
       "      <td>0</td>\n",
       "      <td>Different neural strategies for junior high sc...</td>\n",
       "    </tr>\n",
       "    <tr>\n",
       "      <th>617</th>\n",
       "      <td>0</td>\n",
       "      <td>The brain learns completely differently than w...</td>\n",
       "    </tr>\n",
       "    <tr>\n",
       "      <th>618</th>\n",
       "      <td>0</td>\n",
       "      <td>Epidural stimulation shown to normalize blood ...</td>\n",
       "    </tr>\n",
       "    <tr>\n",
       "      <th>619</th>\n",
       "      <td>0</td>\n",
       "      <td>Obesity surgery linked to positive outcomes in...</td>\n",
       "    </tr>\n",
       "    <tr>\n",
       "      <th>620</th>\n",
       "      <td>0</td>\n",
       "      <td>For graphite pellets, just add elbow grease: R...</td>\n",
       "    </tr>\n",
       "    <tr>\n",
       "      <th>621</th>\n",
       "      <td>0</td>\n",
       "      <td>Using light to turn yeast into biochemical fac...</td>\n",
       "    </tr>\n",
       "    <tr>\n",
       "      <th>622</th>\n",
       "      <td>0</td>\n",
       "      <td>Direct evidence of exposure of pregnant women ...</td>\n",
       "    </tr>\n",
       "    <tr>\n",
       "      <th>623</th>\n",
       "      <td>1</td>\n",
       "      <td>New Report Provides 2011-2018 Overview of Fuel...</td>\n",
       "    </tr>\n",
       "    <tr>\n",
       "      <th>624</th>\n",
       "      <td>1</td>\n",
       "      <td>Traffic Marking Paints market Research Report ...</td>\n",
       "    </tr>\n",
       "    <tr>\n",
       "      <th>625</th>\n",
       "      <td>1</td>\n",
       "      <td>Isobutene market Research Report Released with...</td>\n",
       "    </tr>\n",
       "    <tr>\n",
       "      <th>626</th>\n",
       "      <td>1</td>\n",
       "      <td>New Report Provides 2011-2018 Overview of Line...</td>\n",
       "    </tr>\n",
       "    <tr>\n",
       "      <th>627</th>\n",
       "      <td>1</td>\n",
       "      <td>New Report Provides 2011-2018 Overview of Nano...</td>\n",
       "    </tr>\n",
       "    <tr>\n",
       "      <th>628</th>\n",
       "      <td>1</td>\n",
       "      <td>Orthopedic Surgical Power Tools market Researc...</td>\n",
       "    </tr>\n",
       "    <tr>\n",
       "      <th>629</th>\n",
       "      <td>1</td>\n",
       "      <td>New Report Provides 2011-2018 Overview of PC G...</td>\n",
       "    </tr>\n",
       "    <tr>\n",
       "      <th>630</th>\n",
       "      <td>1</td>\n",
       "      <td>New Report Provides 2011-2018 Overview of Poly...</td>\n",
       "    </tr>\n",
       "  </tbody>\n",
       "</table>\n",
       "<p>631 rows × 2 columns</p>\n",
       "</div>"
      ],
      "text/plain": [
       "     Target                                                TnT\n",
       "0         0  Cramer Remix: The one bright spot after a toug...\n",
       "1         0  Cramer: Dropbox deserves to trade like a cloud...\n",
       "2         0  Cramer: Tommy Hilfiger parent PVH is a buy ahe...\n",
       "3         0  Cramer's game plan: Be prepared for more White...\n",
       "4         0  Five Dow stocks are in bear market territory. ...\n",
       "5         0  Bank of America in $42 million settlement over...\n",
       "6         0  Citi downgrades red-hot chip stock Micron due ...\n",
       "7         0  Cramer on Trump's China tariffs: Beijing is so...\n",
       "8         0  PRO Talks: Wells Fargo's Darrell Cronk on why ...\n",
       "9         0  Market retest of February correction is actual...\n",
       "10        0  Japan warns big cryptocurrency exchange about ...\n",
       "11        0  Stock market volatility could kill this risky ...\n",
       "12        0  Stocks making the biggest moves premarket: NKE...\n",
       "13        0  Goldman predicts 'significant' returns at Cisc...\n",
       "14        0  Dow stock Nike just had a blowout quarter and ...\n",
       "15        0  Stocks are having their worst week in over a m...\n",
       "16        0  Global markets slump as trade-war tensions esc...\n",
       "17        0  Cramer: This decline isn't about the Fed. It's...\n",
       "18        0  US could target 10 Chinese industries, includi...\n",
       "19        0  The market is having a hard time adjusting to ...\n",
       "20        0  Financial markets are not ready for a 'dangero...\n",
       "21        0  How the Fed's outlook could be worrisome for m...\n",
       "22        0  Bitcoin falls back below $9,000 after Japan ad...\n",
       "23        0  Facebook shares under pressure after Bank of A...\n",
       "24        0  Worried about stock earnings? Let the Fed's GD...\n",
       "25        0  Janus' Bill Gross says US, global economies ar...\n",
       "26        0  Stocks making the biggest moves premarket: FB,...\n",
       "27        0  Crude oil is surging, but I'm not buying just ...\n",
       "28        0  10-year Treasury yield drops the most in 6 mon...\n",
       "29        0  Geopolitics: Five biggest global risks of 2018...\n",
       "..      ...                                                ...\n",
       "601       0  How a genetic mutation can interfere with the ...\n",
       "602       0  20-year-old assumptions in solar cell producti...\n",
       "603       0  Dental oral craniofacial tissue regeneration c...\n",
       "604       0  Staphylococcus aureus: A new mechanism involve...\n",
       "605       0  Biodiversity and nature's contributions contin...\n",
       "606       0  Mutations of the bassoon gene causing new brai...\n",
       "607       0  New study elucidates link between PCOS and anx...\n",
       "608       0  Breast cancer: New mechanism discovered for di...\n",
       "609       0  More than 2,500 cancer cases a week could be a...\n",
       "610       0  Landfills: A future source of raw materials-De...\n",
       "611       0  Keeping a tight hold on things: Robot-mounted ...\n",
       "612       0  Treating oily water: Efficiency exceeds requir...\n",
       "613       0  Grouping students into ability-based sets hold...\n",
       "614       0  Rival competition makes ant sperm better swimm...\n",
       "615       0  Analyzing past failures may boost future perfo...\n",
       "616       0  Different neural strategies for junior high sc...\n",
       "617       0  The brain learns completely differently than w...\n",
       "618       0  Epidural stimulation shown to normalize blood ...\n",
       "619       0  Obesity surgery linked to positive outcomes in...\n",
       "620       0  For graphite pellets, just add elbow grease: R...\n",
       "621       0  Using light to turn yeast into biochemical fac...\n",
       "622       0  Direct evidence of exposure of pregnant women ...\n",
       "623       1  New Report Provides 2011-2018 Overview of Fuel...\n",
       "624       1  Traffic Marking Paints market Research Report ...\n",
       "625       1  Isobutene market Research Report Released with...\n",
       "626       1  New Report Provides 2011-2018 Overview of Line...\n",
       "627       1  New Report Provides 2011-2018 Overview of Nano...\n",
       "628       1  Orthopedic Surgical Power Tools market Researc...\n",
       "629       1  New Report Provides 2011-2018 Overview of PC G...\n",
       "630       1  New Report Provides 2011-2018 Overview of Poly...\n",
       "\n",
       "[631 rows x 2 columns]"
      ]
     },
     "execution_count": 129,
     "metadata": {},
     "output_type": "execute_result"
    }
   ],
   "source": [
    "df"
   ]
  },
  {
   "cell_type": "code",
   "execution_count": 132,
   "metadata": {},
   "outputs": [],
   "source": [
    "# function to preprocess data\n",
    "\n",
    "stops = set(stopwords.words(\"english\"))\n",
    "def cleanData(text, lowercase = False, remove_stops = False, stemming = False):\n",
    "    txt = str(text)\n",
    "    txt = re.sub(r'[^A-Za-z0-9\\s]',r'',txt)\n",
    "    txt = re.sub(r'\\n',r' ',txt)\n",
    "    \n",
    "    if lowercase:\n",
    "        txt = \" \".join([w.lower() for w in txt.split()])\n",
    "        \n",
    "    if remove_stops:\n",
    "        txt = \" \".join([w for w in txt.split() if w not in stops])\n",
    "    \n",
    "    if stemming:\n",
    "        st = PorterStemmer()\n",
    "        txt = \" \".join([st.stem(w) for w in txt.split()])\n",
    "\n",
    "    return txt"
   ]
  },
  {
   "cell_type": "code",
   "execution_count": 133,
   "metadata": {},
   "outputs": [],
   "source": [
    "df1 = df"
   ]
  },
  {
   "cell_type": "code",
   "execution_count": 135,
   "metadata": {},
   "outputs": [],
   "source": [
    "# clean TnT\n",
    "df1['TnT'] = df1['TnT'].map(lambda x: cleanData(x, lowercase=True, remove_stops=True, stemming=True))"
   ]
  },
  {
   "cell_type": "code",
   "execution_count": 137,
   "metadata": {},
   "outputs": [],
   "source": [
    "#Using Tfidf\n",
    "\n",
    "tfidfvec = TfidfVectorizer(analyzer='word', ngram_range = (1,1), min_df = 20, max_features=2000)"
   ]
  },
  {
   "cell_type": "code",
   "execution_count": 138,
   "metadata": {},
   "outputs": [],
   "source": [
    "tfidfdata = tfidfvec.fit_transform(df1['TnT'])"
   ]
  },
  {
   "cell_type": "code",
   "execution_count": 139,
   "metadata": {},
   "outputs": [
    {
     "data": {
      "text/plain": [
       "<631x1579 sparse matrix of type '<class 'numpy.float64'>'\n",
       "\twith 101483 stored elements in Compressed Sparse Row format>"
      ]
     },
     "execution_count": 139,
     "metadata": {},
     "output_type": "execute_result"
    }
   ],
   "source": [
    "tfidfdata"
   ]
  },
  {
   "cell_type": "code",
   "execution_count": 140,
   "metadata": {},
   "outputs": [],
   "source": [
    "#Converting tfidfdata into dataframe\n",
    "\n",
    "tfidf_df = pd.DataFrame(tfidfdata.todense())"
   ]
  },
  {
   "cell_type": "code",
   "execution_count": 142,
   "metadata": {},
   "outputs": [
    {
     "data": {
      "text/html": [
       "<div>\n",
       "<style scoped>\n",
       "    .dataframe tbody tr th:only-of-type {\n",
       "        vertical-align: middle;\n",
       "    }\n",
       "\n",
       "    .dataframe tbody tr th {\n",
       "        vertical-align: top;\n",
       "    }\n",
       "\n",
       "    .dataframe thead th {\n",
       "        text-align: right;\n",
       "    }\n",
       "</style>\n",
       "<table border=\"1\" class=\"dataframe\">\n",
       "  <thead>\n",
       "    <tr style=\"text-align: right;\">\n",
       "      <th></th>\n",
       "      <th>0</th>\n",
       "      <th>1</th>\n",
       "      <th>2</th>\n",
       "      <th>3</th>\n",
       "      <th>4</th>\n",
       "      <th>5</th>\n",
       "      <th>6</th>\n",
       "      <th>7</th>\n",
       "      <th>8</th>\n",
       "      <th>9</th>\n",
       "      <th>...</th>\n",
       "      <th>1569</th>\n",
       "      <th>1570</th>\n",
       "      <th>1571</th>\n",
       "      <th>1572</th>\n",
       "      <th>1573</th>\n",
       "      <th>1574</th>\n",
       "      <th>1575</th>\n",
       "      <th>1576</th>\n",
       "      <th>1577</th>\n",
       "      <th>1578</th>\n",
       "    </tr>\n",
       "  </thead>\n",
       "  <tbody>\n",
       "    <tr>\n",
       "      <th>0</th>\n",
       "      <td>0.000000</td>\n",
       "      <td>0.0</td>\n",
       "      <td>0.0</td>\n",
       "      <td>0.0</td>\n",
       "      <td>0.000000</td>\n",
       "      <td>0.000000</td>\n",
       "      <td>0.0</td>\n",
       "      <td>0.0</td>\n",
       "      <td>0.0</td>\n",
       "      <td>0.000000</td>\n",
       "      <td>...</td>\n",
       "      <td>0.0</td>\n",
       "      <td>0.050019</td>\n",
       "      <td>0.000000</td>\n",
       "      <td>0.000000</td>\n",
       "      <td>0.0</td>\n",
       "      <td>0.0</td>\n",
       "      <td>0.0</td>\n",
       "      <td>0.000000</td>\n",
       "      <td>0.0</td>\n",
       "      <td>0.0</td>\n",
       "    </tr>\n",
       "    <tr>\n",
       "      <th>1</th>\n",
       "      <td>0.000000</td>\n",
       "      <td>0.0</td>\n",
       "      <td>0.0</td>\n",
       "      <td>0.0</td>\n",
       "      <td>0.000000</td>\n",
       "      <td>0.000000</td>\n",
       "      <td>0.0</td>\n",
       "      <td>0.0</td>\n",
       "      <td>0.0</td>\n",
       "      <td>0.000000</td>\n",
       "      <td>...</td>\n",
       "      <td>0.0</td>\n",
       "      <td>0.063719</td>\n",
       "      <td>0.000000</td>\n",
       "      <td>0.000000</td>\n",
       "      <td>0.0</td>\n",
       "      <td>0.0</td>\n",
       "      <td>0.0</td>\n",
       "      <td>0.032848</td>\n",
       "      <td>0.0</td>\n",
       "      <td>0.0</td>\n",
       "    </tr>\n",
       "    <tr>\n",
       "      <th>2</th>\n",
       "      <td>0.000000</td>\n",
       "      <td>0.0</td>\n",
       "      <td>0.0</td>\n",
       "      <td>0.0</td>\n",
       "      <td>0.106652</td>\n",
       "      <td>0.000000</td>\n",
       "      <td>0.0</td>\n",
       "      <td>0.0</td>\n",
       "      <td>0.0</td>\n",
       "      <td>0.000000</td>\n",
       "      <td>...</td>\n",
       "      <td>0.0</td>\n",
       "      <td>0.000000</td>\n",
       "      <td>0.000000</td>\n",
       "      <td>0.000000</td>\n",
       "      <td>0.0</td>\n",
       "      <td>0.0</td>\n",
       "      <td>0.0</td>\n",
       "      <td>0.000000</td>\n",
       "      <td>0.0</td>\n",
       "      <td>0.0</td>\n",
       "    </tr>\n",
       "    <tr>\n",
       "      <th>3</th>\n",
       "      <td>0.000000</td>\n",
       "      <td>0.0</td>\n",
       "      <td>0.0</td>\n",
       "      <td>0.0</td>\n",
       "      <td>0.000000</td>\n",
       "      <td>0.000000</td>\n",
       "      <td>0.0</td>\n",
       "      <td>0.0</td>\n",
       "      <td>0.0</td>\n",
       "      <td>0.000000</td>\n",
       "      <td>...</td>\n",
       "      <td>0.0</td>\n",
       "      <td>0.044887</td>\n",
       "      <td>0.081419</td>\n",
       "      <td>0.145143</td>\n",
       "      <td>0.0</td>\n",
       "      <td>0.0</td>\n",
       "      <td>0.0</td>\n",
       "      <td>0.000000</td>\n",
       "      <td>0.0</td>\n",
       "      <td>0.0</td>\n",
       "    </tr>\n",
       "    <tr>\n",
       "      <th>4</th>\n",
       "      <td>0.050138</td>\n",
       "      <td>0.0</td>\n",
       "      <td>0.0</td>\n",
       "      <td>0.0</td>\n",
       "      <td>0.057439</td>\n",
       "      <td>0.067821</td>\n",
       "      <td>0.0</td>\n",
       "      <td>0.0</td>\n",
       "      <td>0.0</td>\n",
       "      <td>0.072249</td>\n",
       "      <td>...</td>\n",
       "      <td>0.0</td>\n",
       "      <td>0.000000</td>\n",
       "      <td>0.000000</td>\n",
       "      <td>0.000000</td>\n",
       "      <td>0.0</td>\n",
       "      <td>0.0</td>\n",
       "      <td>0.0</td>\n",
       "      <td>0.047665</td>\n",
       "      <td>0.0</td>\n",
       "      <td>0.0</td>\n",
       "    </tr>\n",
       "  </tbody>\n",
       "</table>\n",
       "<p>5 rows × 1579 columns</p>\n",
       "</div>"
      ],
      "text/plain": [
       "       0     1     2     3         4         5     6     7     8         9     \\\n",
       "0  0.000000   0.0   0.0   0.0  0.000000  0.000000   0.0   0.0   0.0  0.000000   \n",
       "1  0.000000   0.0   0.0   0.0  0.000000  0.000000   0.0   0.0   0.0  0.000000   \n",
       "2  0.000000   0.0   0.0   0.0  0.106652  0.000000   0.0   0.0   0.0  0.000000   \n",
       "3  0.000000   0.0   0.0   0.0  0.000000  0.000000   0.0   0.0   0.0  0.000000   \n",
       "4  0.050138   0.0   0.0   0.0  0.057439  0.067821   0.0   0.0   0.0  0.072249   \n",
       "\n",
       "   ...  1569      1570      1571      1572  1573  1574  1575      1576  1577  \\\n",
       "0  ...   0.0  0.050019  0.000000  0.000000   0.0   0.0   0.0  0.000000   0.0   \n",
       "1  ...   0.0  0.063719  0.000000  0.000000   0.0   0.0   0.0  0.032848   0.0   \n",
       "2  ...   0.0  0.000000  0.000000  0.000000   0.0   0.0   0.0  0.000000   0.0   \n",
       "3  ...   0.0  0.044887  0.081419  0.145143   0.0   0.0   0.0  0.000000   0.0   \n",
       "4  ...   0.0  0.000000  0.000000  0.000000   0.0   0.0   0.0  0.047665   0.0   \n",
       "\n",
       "   1578  \n",
       "0   0.0  \n",
       "1   0.0  \n",
       "2   0.0  \n",
       "3   0.0  \n",
       "4   0.0  \n",
       "\n",
       "[5 rows x 1579 columns]"
      ]
     },
     "execution_count": 142,
     "metadata": {},
     "output_type": "execute_result"
    }
   ],
   "source": [
    "tfidf_df.head()"
   ]
  },
  {
   "cell_type": "markdown",
   "metadata": {},
   "source": [
    "# Modelling"
   ]
  },
  {
   "cell_type": "code",
   "execution_count": 143,
   "metadata": {},
   "outputs": [],
   "source": [
    "import sklearn\n",
    "from sklearn import metrics\n",
    "# import metrics we'll need\n",
    "from sklearn.metrics import accuracy_score  \n",
    "from sklearn.metrics import classification_report\n",
    "from sklearn.metrics import confusion_matrix\n",
    "from sklearn.metrics import roc_auc_score\n",
    "from sklearn.metrics import roc_curve \n",
    "from sklearn.metrics import auc"
   ]
  },
  {
   "cell_type": "code",
   "execution_count": 144,
   "metadata": {},
   "outputs": [],
   "source": [
    "from sklearn.model_selection import train_test_split\n",
    "Xtrain, Xtest, ytrain, ytest = sklearn.model_selection.train_test_split(tfidf_df, df1.Target, test_size = 0.20)"
   ]
  },
  {
   "cell_type": "markdown",
   "metadata": {},
   "source": [
    "# Logistic Regression"
   ]
  },
  {
   "cell_type": "code",
   "execution_count": 162,
   "metadata": {},
   "outputs": [
    {
     "name": "stdout",
     "output_type": "stream",
     "text": [
      "LogisticRegression(C=1.0, class_weight=None, dual=False, fit_intercept=True,\n",
      "                   intercept_scaling=1, l1_ratio=None, max_iter=50,\n",
      "                   multi_class='warn', n_jobs=None, penalty='l1',\n",
      "                   random_state=None, solver='warn', tol=0.0001, verbose=0,\n",
      "                   warm_start=False)\n",
      "Accuracy for Logistic Regression: 0.937007874015748\n",
      "Duration: 0:00:00.022878\n"
     ]
    }
   ],
   "source": [
    "# import the model\n",
    "from sklearn.linear_model import LogisticRegression\n",
    "from datetime import datetime\n",
    "start_time = datetime.now()\n",
    "# instantiate the estimator\n",
    "log = LogisticRegression(penalty='l1',max_iter=50)\n",
    "print(log)\n",
    "\n",
    "# fit the model\n",
    "log.fit(Xtrain, ytrain)\n",
    "\n",
    "# predict the response\n",
    "y_pred = log.predict(Xtest)\n",
    "\n",
    "# accuracy score\n",
    "pred_logreg = metrics.accuracy_score(ytest, y_pred)\n",
    "print (\"Accuracy for Logistic Regression: {}\".format(pred_logreg))\n",
    "end_time = datetime.now()\n",
    "print('Duration: {}'.format(end_time - start_time))"
   ]
  },
  {
   "cell_type": "code",
   "execution_count": 160,
   "metadata": {},
   "outputs": [],
   "source": [
    "#Grid Search\n",
    "\n",
    "from sklearn.model_selection import GridSearchCV\n",
    "log_gs = LogisticRegression()\n",
    "param = {'max_iter': [20, 30, 40, 50]}\n",
    "\n",
    "gs = GridSearchCV(log_gs, param, cv=5, n_jobs=-1)\n",
    "gs_fit = gs.fit(Xtrain, ytrain)"
   ]
  },
  {
   "cell_type": "code",
   "execution_count": 161,
   "metadata": {},
   "outputs": [
    {
     "name": "stdout",
     "output_type": "stream",
     "text": [
      "{'max_iter': 50}\n",
      "0.9523809523809523\n"
     ]
    }
   ],
   "source": [
    "print(gs_fit.best_params_)\n",
    "print(gs_fit.best_score_)"
   ]
  },
  {
   "cell_type": "code",
   "execution_count": 163,
   "metadata": {},
   "outputs": [
    {
     "name": "stdout",
     "output_type": "stream",
     "text": [
      "              precision    recall  f1-score   support\n",
      "\n",
      "           0       0.93      0.99      0.96        96\n",
      "           1       0.96      0.77      0.86        31\n",
      "\n",
      "    accuracy                           0.94       127\n",
      "   macro avg       0.95      0.88      0.91       127\n",
      "weighted avg       0.94      0.94      0.93       127\n",
      "\n"
     ]
    }
   ],
   "source": [
    "print (classification_report(ytest, y_pred))"
   ]
  },
  {
   "cell_type": "markdown",
   "metadata": {},
   "source": [
    "# KNN"
   ]
  },
  {
   "cell_type": "code",
   "execution_count": 167,
   "metadata": {},
   "outputs": [
    {
     "name": "stdout",
     "output_type": "stream",
     "text": [
      "KNeighborsClassifier(algorithm='auto', leaf_size=30, metric='minkowski',\n",
      "                     metric_params=None, n_jobs=None, n_neighbors=7, p=2,\n",
      "                     weights='uniform')\n",
      "Accuracy for KNN: 0.9291338582677166\n",
      "Duration: 0:00:00.239932\n"
     ]
    }
   ],
   "source": [
    "from sklearn.neighbors import KNeighborsClassifier\n",
    "from datetime import datetime\n",
    "start_time = datetime.now()\n",
    "# instantiate the estimator\n",
    "knn = KNeighborsClassifier(n_neighbors=7)\n",
    "print(knn)\n",
    "# fit the model\n",
    "knn.fit(Xtrain, ytrain)\n",
    "\n",
    "# predict the response\n",
    "y_pred = knn.predict(Xtest)\n",
    "\n",
    "# accuracy score\n",
    "pred_knn = metrics.accuracy_score(ytest, y_pred)\n",
    "print (\"Accuracy for KNN: {}\".format(pred_knn))\n",
    "end_time = datetime.now()\n",
    "print('Duration: {}'.format(end_time - start_time))"
   ]
  },
  {
   "cell_type": "code",
   "execution_count": 165,
   "metadata": {},
   "outputs": [],
   "source": [
    "#Grid Search\n",
    "\n",
    "from sklearn.model_selection import GridSearchCV\n",
    "kgs = KNeighborsClassifier()\n",
    "param = {'n_neighbors': [5, 7, 10]}\n",
    "\n",
    "gs = GridSearchCV(kgs, param, cv=5, n_jobs=-1)\n",
    "gs_fit = gs.fit(Xtrain, ytrain)"
   ]
  },
  {
   "cell_type": "code",
   "execution_count": 166,
   "metadata": {},
   "outputs": [
    {
     "name": "stdout",
     "output_type": "stream",
     "text": [
      "{'n_neighbors': 7}\n",
      "0.9761904761904762\n"
     ]
    }
   ],
   "source": [
    "print(gs_fit.best_params_)\n",
    "print(gs_fit.best_score_)"
   ]
  },
  {
   "cell_type": "code",
   "execution_count": 168,
   "metadata": {},
   "outputs": [
    {
     "data": {
      "text/plain": [
       "0.9760704281712684"
      ]
     },
     "execution_count": 168,
     "metadata": {},
     "output_type": "execute_result"
    }
   ],
   "source": [
    "#Applying 10-fold cross validation\n",
    "\n",
    "from sklearn.model_selection import cross_val_score\n",
    "accuracies = cross_val_score(estimator = knn, X = Xtrain, y = ytrain, cv = 10)\n",
    "accuracies.mean()"
   ]
  },
  {
   "cell_type": "code",
   "execution_count": 169,
   "metadata": {},
   "outputs": [
    {
     "data": {
      "text/plain": [
       "array([[95,  1],\n",
       "       [ 8, 23]])"
      ]
     },
     "execution_count": 169,
     "metadata": {},
     "output_type": "execute_result"
    }
   ],
   "source": [
    "confusion_matrix(ytest, y_pred)"
   ]
  },
  {
   "cell_type": "code",
   "execution_count": 170,
   "metadata": {},
   "outputs": [
    {
     "name": "stdout",
     "output_type": "stream",
     "text": [
      "              precision    recall  f1-score   support\n",
      "\n",
      "           0       0.92      0.99      0.95        96\n",
      "           1       0.96      0.74      0.84        31\n",
      "\n",
      "    accuracy                           0.93       127\n",
      "   macro avg       0.94      0.87      0.90       127\n",
      "weighted avg       0.93      0.93      0.93       127\n",
      "\n"
     ]
    }
   ],
   "source": [
    "print (classification_report(ytest, y_pred))"
   ]
  },
  {
   "cell_type": "markdown",
   "metadata": {},
   "source": [
    "# Random Forest"
   ]
  },
  {
   "cell_type": "code",
   "execution_count": 171,
   "metadata": {
    "scrolled": false
   },
   "outputs": [
    {
     "name": "stdout",
     "output_type": "stream",
     "text": [
      "RandomForestClassifier(bootstrap=True, class_weight=None, criterion='gini',\n",
      "                       max_depth=30, max_features='auto', max_leaf_nodes=None,\n",
      "                       min_impurity_decrease=0.0, min_impurity_split=None,\n",
      "                       min_samples_leaf=1, min_samples_split=2,\n",
      "                       min_weight_fraction_leaf=0.0, n_estimators=30,\n",
      "                       n_jobs=None, oob_score=False, random_state=None,\n",
      "                       verbose=0, warm_start=False)\n",
      "Accuracy for Random Forest 0.9763779527559056\n",
      "Duration: 0:00:00.122776\n"
     ]
    }
   ],
   "source": [
    "# import the model\n",
    "from sklearn.ensemble import RandomForestClassifier\n",
    "start_time = datetime.now()\n",
    "# instantiate the estimator\n",
    "rf = RandomForestClassifier(n_estimators=30, max_depth=30)\n",
    "print(rf)\n",
    "\n",
    "# fit the model\n",
    "rf.fit(Xtrain, ytrain)\n",
    "\n",
    "# predict the response\n",
    "y_pred = rf.predict(Xtest)\n",
    "\n",
    "# accuracy score\n",
    "pred_rf = metrics.accuracy_score(ytest, y_pred)\n",
    "print (\"Accuracy for Random Forest {}\".format(pred_rf))\n",
    "end_time = datetime.now()\n",
    "print('Duration: {}'.format(end_time - start_time))"
   ]
  },
  {
   "cell_type": "code",
   "execution_count": 172,
   "metadata": {},
   "outputs": [
    {
     "data": {
      "text/plain": [
       "0.996078431372549"
      ]
     },
     "execution_count": 172,
     "metadata": {},
     "output_type": "execute_result"
    }
   ],
   "source": [
    "#Applying 10-fold cross validation\n",
    "\n",
    "from sklearn.model_selection import cross_val_score\n",
    "accuracies = cross_val_score(estimator = rf, X = Xtrain, y = ytrain, cv = 10)\n",
    "accuracies.mean()"
   ]
  },
  {
   "cell_type": "code",
   "execution_count": 173,
   "metadata": {},
   "outputs": [],
   "source": [
    "#Grid Search\n",
    "\n",
    "from sklearn.model_selection import GridSearchCV\n",
    "rfgs = RandomForestClassifier()\n",
    "param = {'n_estimators': [20, 30, 45, 60],\n",
    "        'max_depth': [20, 30, 60, 90, None]}\n",
    "\n",
    "gs = GridSearchCV(rfgs, param, cv=5, n_jobs=-1)\n",
    "gs_fit = gs.fit(Xtrain, ytrain)"
   ]
  },
  {
   "cell_type": "code",
   "execution_count": 174,
   "metadata": {},
   "outputs": [
    {
     "name": "stdout",
     "output_type": "stream",
     "text": [
      "{'max_depth': 30, 'n_estimators': 30}\n",
      "0.996031746031746\n"
     ]
    }
   ],
   "source": [
    "print(gs_fit.best_params_)\n",
    "print(gs_fit.best_score_)"
   ]
  },
  {
   "cell_type": "code",
   "execution_count": 175,
   "metadata": {},
   "outputs": [
    {
     "data": {
      "text/plain": [
       "array([[96,  0],\n",
       "       [ 3, 28]])"
      ]
     },
     "execution_count": 175,
     "metadata": {},
     "output_type": "execute_result"
    }
   ],
   "source": [
    "confusion_matrix(ytest, y_pred)"
   ]
  },
  {
   "cell_type": "code",
   "execution_count": 176,
   "metadata": {},
   "outputs": [
    {
     "name": "stdout",
     "output_type": "stream",
     "text": [
      "              precision    recall  f1-score   support\n",
      "\n",
      "           0       0.97      1.00      0.98        96\n",
      "           1       1.00      0.90      0.95        31\n",
      "\n",
      "    accuracy                           0.98       127\n",
      "   macro avg       0.98      0.95      0.97       127\n",
      "weighted avg       0.98      0.98      0.98       127\n",
      "\n"
     ]
    }
   ],
   "source": [
    "print (classification_report(ytest, y_pred))"
   ]
  },
  {
   "cell_type": "markdown",
   "metadata": {},
   "source": [
    "# Naive Bayes"
   ]
  },
  {
   "cell_type": "code",
   "execution_count": 177,
   "metadata": {},
   "outputs": [
    {
     "name": "stdout",
     "output_type": "stream",
     "text": [
      "[0.96078431 0.94117647 0.94117647 0.96078431 0.92156863 0.94117647\n",
      " 0.96078431 0.93877551 0.93877551 0.95918367]\n"
     ]
    }
   ],
   "source": [
    "mod1 = GaussianNB()\n",
    "\n",
    "print(cross_val_score(mod1, Xtrain, ytrain, cv=10, scoring=make_scorer(accuracy_score)))"
   ]
  },
  {
   "cell_type": "code",
   "execution_count": 178,
   "metadata": {},
   "outputs": [
    {
     "name": "stdout",
     "output_type": "stream",
     "text": [
      "Accuracy for Naive Bayes 0.9291338582677166\n",
      "Duration: 0:00:00.035255\n"
     ]
    }
   ],
   "source": [
    "start_time = datetime.now()\n",
    "mod1.fit(Xtrain, ytrain)\n",
    "y_pred = mod1.predict(Xtest)\n",
    "\n",
    "# accuracy score\n",
    "nv = metrics.accuracy_score(ytest, y_pred)\n",
    "print (\"Accuracy for Naive Bayes {}\".format(nv))\n",
    "end_time = datetime.now()\n",
    "print('Duration: {}'.format(end_time - start_time))"
   ]
  },
  {
   "cell_type": "code",
   "execution_count": 179,
   "metadata": {},
   "outputs": [
    {
     "data": {
      "text/plain": [
       "array([[96,  0],\n",
       "       [ 9, 22]])"
      ]
     },
     "execution_count": 179,
     "metadata": {},
     "output_type": "execute_result"
    }
   ],
   "source": [
    "confusion_matrix(ytest,y_pred)"
   ]
  },
  {
   "cell_type": "code",
   "execution_count": 180,
   "metadata": {},
   "outputs": [
    {
     "name": "stdout",
     "output_type": "stream",
     "text": [
      "              precision    recall  f1-score   support\n",
      "\n",
      "           0       0.91      1.00      0.96        96\n",
      "           1       1.00      0.71      0.83        31\n",
      "\n",
      "    accuracy                           0.93       127\n",
      "   macro avg       0.96      0.85      0.89       127\n",
      "weighted avg       0.94      0.93      0.92       127\n",
      "\n"
     ]
    }
   ],
   "source": [
    "print(classification_report(ytest,y_pred))"
   ]
  },
  {
   "cell_type": "markdown",
   "metadata": {},
   "source": [
    "# Modelling on Title"
   ]
  },
  {
   "cell_type": "code",
   "execution_count": 181,
   "metadata": {},
   "outputs": [
    {
     "data": {
      "text/html": [
       "<div>\n",
       "<style scoped>\n",
       "    .dataframe tbody tr th:only-of-type {\n",
       "        vertical-align: middle;\n",
       "    }\n",
       "\n",
       "    .dataframe tbody tr th {\n",
       "        vertical-align: top;\n",
       "    }\n",
       "\n",
       "    .dataframe thead th {\n",
       "        text-align: right;\n",
       "    }\n",
       "</style>\n",
       "<table border=\"1\" class=\"dataframe\">\n",
       "  <thead>\n",
       "    <tr style=\"text-align: right;\">\n",
       "      <th></th>\n",
       "      <th>title</th>\n",
       "      <th>Target</th>\n",
       "    </tr>\n",
       "  </thead>\n",
       "  <tbody>\n",
       "    <tr>\n",
       "      <th>0</th>\n",
       "      <td>Cramer Remix: The one bright spot after a toug...</td>\n",
       "      <td>Non-Spam</td>\n",
       "    </tr>\n",
       "    <tr>\n",
       "      <th>1</th>\n",
       "      <td>Cramer: Dropbox deserves to trade like a cloud...</td>\n",
       "      <td>Non-Spam</td>\n",
       "    </tr>\n",
       "    <tr>\n",
       "      <th>2</th>\n",
       "      <td>Cramer: Tommy Hilfiger parent PVH is a buy ahe...</td>\n",
       "      <td>Non-Spam</td>\n",
       "    </tr>\n",
       "    <tr>\n",
       "      <th>3</th>\n",
       "      <td>Cramer's game plan: Be prepared for more White...</td>\n",
       "      <td>Non-Spam</td>\n",
       "    </tr>\n",
       "    <tr>\n",
       "      <th>4</th>\n",
       "      <td>Five Dow stocks are in bear market territory. ...</td>\n",
       "      <td>Non-Spam</td>\n",
       "    </tr>\n",
       "  </tbody>\n",
       "</table>\n",
       "</div>"
      ],
      "text/plain": [
       "                                               title    Target\n",
       "0  Cramer Remix: The one bright spot after a toug...  Non-Spam\n",
       "1  Cramer: Dropbox deserves to trade like a cloud...  Non-Spam\n",
       "2  Cramer: Tommy Hilfiger parent PVH is a buy ahe...  Non-Spam\n",
       "3  Cramer's game plan: Be prepared for more White...  Non-Spam\n",
       "4  Five Dow stocks are in bear market territory. ...  Non-Spam"
      ]
     },
     "execution_count": 181,
     "metadata": {},
     "output_type": "execute_result"
    }
   ],
   "source": [
    "df_title.head()"
   ]
  },
  {
   "cell_type": "code",
   "execution_count": 182,
   "metadata": {},
   "outputs": [],
   "source": [
    "df_title['Target'] = np.where((df_title['Target'] == \"Spam\"), 1, 0)"
   ]
  },
  {
   "cell_type": "code",
   "execution_count": 184,
   "metadata": {},
   "outputs": [
    {
     "data": {
      "text/html": [
       "<div>\n",
       "<style scoped>\n",
       "    .dataframe tbody tr th:only-of-type {\n",
       "        vertical-align: middle;\n",
       "    }\n",
       "\n",
       "    .dataframe tbody tr th {\n",
       "        vertical-align: top;\n",
       "    }\n",
       "\n",
       "    .dataframe thead th {\n",
       "        text-align: right;\n",
       "    }\n",
       "</style>\n",
       "<table border=\"1\" class=\"dataframe\">\n",
       "  <thead>\n",
       "    <tr style=\"text-align: right;\">\n",
       "      <th></th>\n",
       "      <th>title</th>\n",
       "      <th>Target</th>\n",
       "    </tr>\n",
       "  </thead>\n",
       "  <tbody>\n",
       "    <tr>\n",
       "      <th>0</th>\n",
       "      <td>Cramer Remix: The one bright spot after a toug...</td>\n",
       "      <td>0</td>\n",
       "    </tr>\n",
       "    <tr>\n",
       "      <th>1</th>\n",
       "      <td>Cramer: Dropbox deserves to trade like a cloud...</td>\n",
       "      <td>0</td>\n",
       "    </tr>\n",
       "    <tr>\n",
       "      <th>2</th>\n",
       "      <td>Cramer: Tommy Hilfiger parent PVH is a buy ahe...</td>\n",
       "      <td>0</td>\n",
       "    </tr>\n",
       "    <tr>\n",
       "      <th>3</th>\n",
       "      <td>Cramer's game plan: Be prepared for more White...</td>\n",
       "      <td>0</td>\n",
       "    </tr>\n",
       "    <tr>\n",
       "      <th>4</th>\n",
       "      <td>Five Dow stocks are in bear market territory. ...</td>\n",
       "      <td>0</td>\n",
       "    </tr>\n",
       "  </tbody>\n",
       "</table>\n",
       "</div>"
      ],
      "text/plain": [
       "                                               title  Target\n",
       "0  Cramer Remix: The one bright spot after a toug...       0\n",
       "1  Cramer: Dropbox deserves to trade like a cloud...       0\n",
       "2  Cramer: Tommy Hilfiger parent PVH is a buy ahe...       0\n",
       "3  Cramer's game plan: Be prepared for more White...       0\n",
       "4  Five Dow stocks are in bear market territory. ...       0"
      ]
     },
     "execution_count": 184,
     "metadata": {},
     "output_type": "execute_result"
    }
   ],
   "source": [
    "df_title.head()"
   ]
  },
  {
   "cell_type": "code",
   "execution_count": 185,
   "metadata": {},
   "outputs": [],
   "source": [
    "# clean Title\n",
    "df_title['title'] = df_title['title'].map(lambda x: cleanData(x, lowercase=True, remove_stops=True, stemming=True))"
   ]
  },
  {
   "cell_type": "code",
   "execution_count": 186,
   "metadata": {},
   "outputs": [],
   "source": [
    "tfidfdata_title = tfidfvec.fit_transform(df_title['title'])"
   ]
  },
  {
   "cell_type": "code",
   "execution_count": 187,
   "metadata": {},
   "outputs": [],
   "source": [
    "#Converting tfidfdata into dataframe\n",
    "\n",
    "tfidf_df_title = pd.DataFrame(tfidfdata_title.todense())"
   ]
  },
  {
   "cell_type": "code",
   "execution_count": 189,
   "metadata": {},
   "outputs": [
    {
     "data": {
      "text/html": [
       "<div>\n",
       "<style scoped>\n",
       "    .dataframe tbody tr th:only-of-type {\n",
       "        vertical-align: middle;\n",
       "    }\n",
       "\n",
       "    .dataframe tbody tr th {\n",
       "        vertical-align: top;\n",
       "    }\n",
       "\n",
       "    .dataframe thead th {\n",
       "        text-align: right;\n",
       "    }\n",
       "</style>\n",
       "<table border=\"1\" class=\"dataframe\">\n",
       "  <thead>\n",
       "    <tr style=\"text-align: right;\">\n",
       "      <th></th>\n",
       "      <th>0</th>\n",
       "      <th>1</th>\n",
       "      <th>2</th>\n",
       "      <th>3</th>\n",
       "      <th>4</th>\n",
       "      <th>5</th>\n",
       "      <th>6</th>\n",
       "      <th>7</th>\n",
       "      <th>8</th>\n",
       "      <th>9</th>\n",
       "      <th>...</th>\n",
       "      <th>11</th>\n",
       "      <th>12</th>\n",
       "      <th>13</th>\n",
       "      <th>14</th>\n",
       "      <th>15</th>\n",
       "      <th>16</th>\n",
       "      <th>17</th>\n",
       "      <th>18</th>\n",
       "      <th>19</th>\n",
       "      <th>20</th>\n",
       "    </tr>\n",
       "  </thead>\n",
       "  <tbody>\n",
       "    <tr>\n",
       "      <th>0</th>\n",
       "      <td>0.0</td>\n",
       "      <td>0.0</td>\n",
       "      <td>0.0</td>\n",
       "      <td>0.0</td>\n",
       "      <td>0.0</td>\n",
       "      <td>0.0</td>\n",
       "      <td>0.0</td>\n",
       "      <td>0.0</td>\n",
       "      <td>0.0</td>\n",
       "      <td>0.0</td>\n",
       "      <td>...</td>\n",
       "      <td>0.0</td>\n",
       "      <td>0.0</td>\n",
       "      <td>0.0</td>\n",
       "      <td>0.0</td>\n",
       "      <td>0.0</td>\n",
       "      <td>0.0</td>\n",
       "      <td>0.0</td>\n",
       "      <td>0.0</td>\n",
       "      <td>0.0</td>\n",
       "      <td>0.0</td>\n",
       "    </tr>\n",
       "    <tr>\n",
       "      <th>1</th>\n",
       "      <td>0.0</td>\n",
       "      <td>0.0</td>\n",
       "      <td>0.0</td>\n",
       "      <td>0.0</td>\n",
       "      <td>0.0</td>\n",
       "      <td>0.0</td>\n",
       "      <td>0.0</td>\n",
       "      <td>0.0</td>\n",
       "      <td>0.0</td>\n",
       "      <td>0.0</td>\n",
       "      <td>...</td>\n",
       "      <td>0.0</td>\n",
       "      <td>0.0</td>\n",
       "      <td>0.0</td>\n",
       "      <td>0.0</td>\n",
       "      <td>0.0</td>\n",
       "      <td>0.0</td>\n",
       "      <td>0.0</td>\n",
       "      <td>0.0</td>\n",
       "      <td>0.0</td>\n",
       "      <td>0.0</td>\n",
       "    </tr>\n",
       "    <tr>\n",
       "      <th>2</th>\n",
       "      <td>0.0</td>\n",
       "      <td>0.0</td>\n",
       "      <td>0.0</td>\n",
       "      <td>0.0</td>\n",
       "      <td>0.0</td>\n",
       "      <td>0.0</td>\n",
       "      <td>0.0</td>\n",
       "      <td>0.0</td>\n",
       "      <td>0.0</td>\n",
       "      <td>0.0</td>\n",
       "      <td>...</td>\n",
       "      <td>0.0</td>\n",
       "      <td>0.0</td>\n",
       "      <td>0.0</td>\n",
       "      <td>0.0</td>\n",
       "      <td>0.0</td>\n",
       "      <td>0.0</td>\n",
       "      <td>0.0</td>\n",
       "      <td>0.0</td>\n",
       "      <td>0.0</td>\n",
       "      <td>0.0</td>\n",
       "    </tr>\n",
       "    <tr>\n",
       "      <th>3</th>\n",
       "      <td>0.0</td>\n",
       "      <td>0.0</td>\n",
       "      <td>0.0</td>\n",
       "      <td>0.0</td>\n",
       "      <td>0.0</td>\n",
       "      <td>0.0</td>\n",
       "      <td>0.0</td>\n",
       "      <td>0.0</td>\n",
       "      <td>0.0</td>\n",
       "      <td>0.0</td>\n",
       "      <td>...</td>\n",
       "      <td>0.0</td>\n",
       "      <td>0.0</td>\n",
       "      <td>0.0</td>\n",
       "      <td>0.0</td>\n",
       "      <td>0.0</td>\n",
       "      <td>0.0</td>\n",
       "      <td>0.0</td>\n",
       "      <td>0.0</td>\n",
       "      <td>0.0</td>\n",
       "      <td>0.0</td>\n",
       "    </tr>\n",
       "    <tr>\n",
       "      <th>4</th>\n",
       "      <td>0.0</td>\n",
       "      <td>0.0</td>\n",
       "      <td>0.0</td>\n",
       "      <td>0.0</td>\n",
       "      <td>0.0</td>\n",
       "      <td>0.0</td>\n",
       "      <td>0.0</td>\n",
       "      <td>0.0</td>\n",
       "      <td>0.0</td>\n",
       "      <td>0.0</td>\n",
       "      <td>...</td>\n",
       "      <td>1.0</td>\n",
       "      <td>0.0</td>\n",
       "      <td>0.0</td>\n",
       "      <td>0.0</td>\n",
       "      <td>0.0</td>\n",
       "      <td>0.0</td>\n",
       "      <td>0.0</td>\n",
       "      <td>0.0</td>\n",
       "      <td>0.0</td>\n",
       "      <td>0.0</td>\n",
       "    </tr>\n",
       "  </tbody>\n",
       "</table>\n",
       "<p>5 rows × 21 columns</p>\n",
       "</div>"
      ],
      "text/plain": [
       "    0    1    2    3    4    5    6    7    8    9   ...   11   12   13   14  \\\n",
       "0  0.0  0.0  0.0  0.0  0.0  0.0  0.0  0.0  0.0  0.0  ...  0.0  0.0  0.0  0.0   \n",
       "1  0.0  0.0  0.0  0.0  0.0  0.0  0.0  0.0  0.0  0.0  ...  0.0  0.0  0.0  0.0   \n",
       "2  0.0  0.0  0.0  0.0  0.0  0.0  0.0  0.0  0.0  0.0  ...  0.0  0.0  0.0  0.0   \n",
       "3  0.0  0.0  0.0  0.0  0.0  0.0  0.0  0.0  0.0  0.0  ...  0.0  0.0  0.0  0.0   \n",
       "4  0.0  0.0  0.0  0.0  0.0  0.0  0.0  0.0  0.0  0.0  ...  1.0  0.0  0.0  0.0   \n",
       "\n",
       "    15   16   17   18   19   20  \n",
       "0  0.0  0.0  0.0  0.0  0.0  0.0  \n",
       "1  0.0  0.0  0.0  0.0  0.0  0.0  \n",
       "2  0.0  0.0  0.0  0.0  0.0  0.0  \n",
       "3  0.0  0.0  0.0  0.0  0.0  0.0  \n",
       "4  0.0  0.0  0.0  0.0  0.0  0.0  \n",
       "\n",
       "[5 rows x 21 columns]"
      ]
     },
     "execution_count": 189,
     "metadata": {},
     "output_type": "execute_result"
    }
   ],
   "source": [
    "tfidf_df_title.head()"
   ]
  },
  {
   "cell_type": "code",
   "execution_count": 190,
   "metadata": {},
   "outputs": [],
   "source": [
    "from sklearn.model_selection import train_test_split\n",
    "Xtrain, Xtest, ytrain, ytest = sklearn.model_selection.train_test_split(tfidf_df_title, df_title.Target, test_size = 0.20)"
   ]
  },
  {
   "cell_type": "markdown",
   "metadata": {},
   "source": [
    "# Logistic Regression"
   ]
  },
  {
   "cell_type": "code",
   "execution_count": 191,
   "metadata": {},
   "outputs": [
    {
     "name": "stdout",
     "output_type": "stream",
     "text": [
      "LogisticRegression(C=1.0, class_weight=None, dual=False, fit_intercept=True,\n",
      "                   intercept_scaling=1, l1_ratio=None, max_iter=50,\n",
      "                   multi_class='warn', n_jobs=None, penalty='l1',\n",
      "                   random_state=None, solver='warn', tol=0.0001, verbose=0,\n",
      "                   warm_start=False)\n",
      "Accuracy for Logistic Regression: 0.984251968503937\n",
      "Duration: 0:00:00.008394\n"
     ]
    }
   ],
   "source": [
    "# import the model\n",
    "from sklearn.linear_model import LogisticRegression\n",
    "from datetime import datetime\n",
    "start_time = datetime.now()\n",
    "# instantiate the estimator\n",
    "log = LogisticRegression(penalty='l1',max_iter=20)\n",
    "print(log)\n",
    "\n",
    "# fit the model\n",
    "log.fit(Xtrain, ytrain)\n",
    "\n",
    "# predict the response\n",
    "y_pred = log.predict(Xtest)\n",
    "\n",
    "# accuracy score\n",
    "pred_logreg = metrics.accuracy_score(ytest, y_pred)\n",
    "print (\"Accuracy for Logistic Regression: {}\".format(pred_logreg))\n",
    "end_time = datetime.now()\n",
    "print('Duration: {}'.format(end_time - start_time))"
   ]
  },
  {
   "cell_type": "code",
   "execution_count": 192,
   "metadata": {},
   "outputs": [],
   "source": [
    "#Grid Search\n",
    "\n",
    "from sklearn.model_selection import GridSearchCV\n",
    "log_gs = LogisticRegression()\n",
    "param = {'max_iter': [20, 30, 50, 100]}\n",
    "\n",
    "gs = GridSearchCV(log_gs, param, cv=5, n_jobs=-1)\n",
    "gs_fit = gs.fit(Xtrain, ytrain)"
   ]
  },
  {
   "cell_type": "code",
   "execution_count": 193,
   "metadata": {},
   "outputs": [
    {
     "name": "stdout",
     "output_type": "stream",
     "text": [
      "{'max_iter': 20}\n",
      "0.9682539682539683\n"
     ]
    }
   ],
   "source": [
    "print(gs_fit.best_params_)\n",
    "print(gs_fit.best_score_)"
   ]
  },
  {
   "cell_type": "code",
   "execution_count": 194,
   "metadata": {},
   "outputs": [
    {
     "name": "stdout",
     "output_type": "stream",
     "text": [
      "              precision    recall  f1-score   support\n",
      "\n",
      "           0       0.98      1.00      0.99        86\n",
      "           1       1.00      0.95      0.97        41\n",
      "\n",
      "    accuracy                           0.98       127\n",
      "   macro avg       0.99      0.98      0.98       127\n",
      "weighted avg       0.98      0.98      0.98       127\n",
      "\n"
     ]
    }
   ],
   "source": [
    "print (classification_report(ytest, y_pred))"
   ]
  },
  {
   "cell_type": "markdown",
   "metadata": {},
   "source": [
    "# KNN"
   ]
  },
  {
   "cell_type": "code",
   "execution_count": 195,
   "metadata": {},
   "outputs": [
    {
     "name": "stdout",
     "output_type": "stream",
     "text": [
      "KNeighborsClassifier(algorithm='auto', leaf_size=30, metric='minkowski',\n",
      "                     metric_params=None, n_jobs=None, n_neighbors=7, p=2,\n",
      "                     weights='uniform')\n",
      "Accuracy for KNN: 0.984251968503937\n",
      "Duration: 0:00:00.017128\n"
     ]
    }
   ],
   "source": [
    "from sklearn.neighbors import KNeighborsClassifier\n",
    "from datetime import datetime\n",
    "start_time = datetime.now()\n",
    "# instantiate the estimator\n",
    "knn = KNeighborsClassifier(n_neighbors=5)\n",
    "print(knn)\n",
    "# fit the model\n",
    "knn.fit(Xtrain, ytrain)\n",
    "\n",
    "# predict the response\n",
    "y_pred = knn.predict(Xtest)\n",
    "\n",
    "# accuracy score\n",
    "pred_knn = metrics.accuracy_score(ytest, y_pred)\n",
    "print (\"Accuracy for KNN: {}\".format(pred_knn))\n",
    "end_time = datetime.now()\n",
    "print('Duration: {}'.format(end_time - start_time))"
   ]
  },
  {
   "cell_type": "code",
   "execution_count": 196,
   "metadata": {},
   "outputs": [],
   "source": [
    "#Grid Search\n",
    "\n",
    "from sklearn.model_selection import GridSearchCV\n",
    "kgs = KNeighborsClassifier()\n",
    "param = {'n_neighbors': [5, 7, 10]}\n",
    "\n",
    "gs = GridSearchCV(kgs, param, cv=5, n_jobs=-1)\n",
    "gs_fit = gs.fit(Xtrain, ytrain)"
   ]
  },
  {
   "cell_type": "code",
   "execution_count": 197,
   "metadata": {},
   "outputs": [
    {
     "name": "stdout",
     "output_type": "stream",
     "text": [
      "{'n_neighbors': 5}\n",
      "0.9702380952380952\n"
     ]
    }
   ],
   "source": [
    "print(gs_fit.best_params_)\n",
    "print(gs_fit.best_score_)"
   ]
  },
  {
   "cell_type": "code",
   "execution_count": 198,
   "metadata": {},
   "outputs": [
    {
     "data": {
      "text/plain": [
       "array([[86,  0],\n",
       "       [ 2, 39]])"
      ]
     },
     "execution_count": 198,
     "metadata": {},
     "output_type": "execute_result"
    }
   ],
   "source": [
    "confusion_matrix(ytest, y_pred)"
   ]
  },
  {
   "cell_type": "code",
   "execution_count": 199,
   "metadata": {},
   "outputs": [
    {
     "name": "stdout",
     "output_type": "stream",
     "text": [
      "              precision    recall  f1-score   support\n",
      "\n",
      "           0       0.98      1.00      0.99        86\n",
      "           1       1.00      0.95      0.97        41\n",
      "\n",
      "    accuracy                           0.98       127\n",
      "   macro avg       0.99      0.98      0.98       127\n",
      "weighted avg       0.98      0.98      0.98       127\n",
      "\n"
     ]
    }
   ],
   "source": [
    "print (classification_report(ytest, y_pred))"
   ]
  },
  {
   "cell_type": "markdown",
   "metadata": {},
   "source": [
    "# Random Forest"
   ]
  },
  {
   "cell_type": "code",
   "execution_count": 200,
   "metadata": {},
   "outputs": [
    {
     "name": "stdout",
     "output_type": "stream",
     "text": [
      "RandomForestClassifier(bootstrap=True, class_weight=None, criterion='gini',\n",
      "                       max_depth=30, max_features='auto', max_leaf_nodes=None,\n",
      "                       min_impurity_decrease=0.0, min_impurity_split=None,\n",
      "                       min_samples_leaf=1, min_samples_split=2,\n",
      "                       min_weight_fraction_leaf=0.0, n_estimators=30,\n",
      "                       n_jobs=None, oob_score=False, random_state=None,\n",
      "                       verbose=0, warm_start=False)\n",
      "Accuracy for Random Forest 0.9921259842519685\n",
      "Duration: 0:00:00.052062\n"
     ]
    }
   ],
   "source": [
    "# import the model\n",
    "from sklearn.ensemble import RandomForestClassifier\n",
    "start_time = datetime.now()\n",
    "# instantiate the estimator\n",
    "rf = RandomForestClassifier(n_estimators=20, max_depth=45)\n",
    "print(rf)\n",
    "\n",
    "# fit the model\n",
    "rf.fit(Xtrain, ytrain)\n",
    "\n",
    "# predict the response\n",
    "y_pred = rf.predict(Xtest)\n",
    "\n",
    "# accuracy score\n",
    "pred_rf = metrics.accuracy_score(ytest, y_pred)\n",
    "print (\"Accuracy for Random Forest {}\".format(pred_rf))\n",
    "end_time = datetime.now()\n",
    "print('Duration: {}'.format(end_time - start_time))"
   ]
  },
  {
   "cell_type": "code",
   "execution_count": 201,
   "metadata": {},
   "outputs": [],
   "source": [
    "#Grid Search\n",
    "\n",
    "from sklearn.model_selection import GridSearchCV\n",
    "rfgs = RandomForestClassifier()\n",
    "param = {'n_estimators': [20, 30, 45, 60],\n",
    "        'max_depth': [20, 30, 60, 90, None]}\n",
    "\n",
    "gs = GridSearchCV(rfgs, param, cv=5, n_jobs=-1)\n",
    "gs_fit = gs.fit(Xtrain, ytrain)"
   ]
  },
  {
   "cell_type": "code",
   "execution_count": 202,
   "metadata": {},
   "outputs": [
    {
     "name": "stdout",
     "output_type": "stream",
     "text": [
      "{'max_depth': 20, 'n_estimators': 45}\n",
      "0.996031746031746\n"
     ]
    }
   ],
   "source": [
    "print(gs_fit.best_params_)\n",
    "print(gs_fit.best_score_)"
   ]
  },
  {
   "cell_type": "code",
   "execution_count": 203,
   "metadata": {},
   "outputs": [
    {
     "data": {
      "text/plain": [
       "array([[86,  0],\n",
       "       [ 1, 40]])"
      ]
     },
     "execution_count": 203,
     "metadata": {},
     "output_type": "execute_result"
    }
   ],
   "source": [
    "confusion_matrix(ytest, y_pred)"
   ]
  },
  {
   "cell_type": "code",
   "execution_count": 204,
   "metadata": {},
   "outputs": [
    {
     "name": "stdout",
     "output_type": "stream",
     "text": [
      "              precision    recall  f1-score   support\n",
      "\n",
      "           0       0.99      1.00      0.99        86\n",
      "           1       1.00      0.98      0.99        41\n",
      "\n",
      "    accuracy                           0.99       127\n",
      "   macro avg       0.99      0.99      0.99       127\n",
      "weighted avg       0.99      0.99      0.99       127\n",
      "\n"
     ]
    }
   ],
   "source": [
    "print (classification_report(ytest, y_pred))"
   ]
  },
  {
   "cell_type": "markdown",
   "metadata": {},
   "source": [
    "# Naive Bayes"
   ]
  },
  {
   "cell_type": "code",
   "execution_count": 205,
   "metadata": {},
   "outputs": [
    {
     "name": "stdout",
     "output_type": "stream",
     "text": [
      "[0.92156863 1.         0.96078431 0.90196078 0.90196078 0.88235294\n",
      " 0.94117647 0.89795918 0.89795918 0.91836735]\n"
     ]
    }
   ],
   "source": [
    "mod1 = GaussianNB()\n",
    "\n",
    "print(cross_val_score(mod1, Xtrain, ytrain, cv=10, scoring=make_scorer(accuracy_score)))"
   ]
  },
  {
   "cell_type": "code",
   "execution_count": 206,
   "metadata": {},
   "outputs": [
    {
     "name": "stdout",
     "output_type": "stream",
     "text": [
      "Accuracy for Naive Bayes 0.952755905511811\n",
      "Duration: 0:00:00.008188\n"
     ]
    }
   ],
   "source": [
    "start_time = datetime.now()\n",
    "mod1.fit(Xtrain, ytrain)\n",
    "y_pred = mod1.predict(Xtest)\n",
    "\n",
    "# accuracy score\n",
    "nv = metrics.accuracy_score(ytest, y_pred)\n",
    "print (\"Accuracy for Naive Bayes {}\".format(nv))\n",
    "end_time = datetime.now()\n",
    "print('Duration: {}'.format(end_time - start_time))"
   ]
  },
  {
   "cell_type": "code",
   "execution_count": 207,
   "metadata": {},
   "outputs": [
    {
     "data": {
      "text/plain": [
       "array([[85,  1],\n",
       "       [ 5, 36]])"
      ]
     },
     "execution_count": 207,
     "metadata": {},
     "output_type": "execute_result"
    }
   ],
   "source": [
    "confusion_matrix(ytest,y_pred)"
   ]
  },
  {
   "cell_type": "code",
   "execution_count": 208,
   "metadata": {},
   "outputs": [
    {
     "name": "stdout",
     "output_type": "stream",
     "text": [
      "              precision    recall  f1-score   support\n",
      "\n",
      "           0       0.94      0.99      0.97        86\n",
      "           1       0.97      0.88      0.92        41\n",
      "\n",
      "    accuracy                           0.95       127\n",
      "   macro avg       0.96      0.93      0.94       127\n",
      "weighted avg       0.95      0.95      0.95       127\n",
      "\n"
     ]
    }
   ],
   "source": [
    "print(classification_report(ytest,y_pred))"
   ]
  }
 ],
 "metadata": {
  "kernelspec": {
   "display_name": "Python 3",
   "language": "python",
   "name": "python3"
  },
  "language_info": {
   "codemirror_mode": {
    "name": "ipython",
    "version": 3
   },
   "file_extension": ".py",
   "mimetype": "text/x-python",
   "name": "python",
   "nbconvert_exporter": "python",
   "pygments_lexer": "ipython3",
   "version": "3.7.3"
  }
 },
 "nbformat": 4,
 "nbformat_minor": 2
}
